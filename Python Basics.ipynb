{
 "cells": [
  {
   "cell_type": "code",
   "execution_count": 2,
   "id": "9137e83c",
   "metadata": {},
   "outputs": [
    {
     "name": "stdout",
     "output_type": "stream",
     "text": [
      "Tayyaba\n",
      "15\n",
      "Tayyaba Mustafa\n",
      "The value of a is 10\n"
     ]
    }
   ],
   "source": [
    "# Python Syntax\n",
    "\n",
    "print(\"Tayyaba\")\n",
    "\n",
    "a = 10\n",
    "b = 5\n",
    "print(a+b)\n",
    "\n",
    "x = \"Tayyaba\"\n",
    "y = \"Mustafa\"\n",
    "print(x,y)\n",
    "\n",
    "print(\"The value of a is\",a)"
   ]
  },
  {
   "cell_type": "code",
   "execution_count": 4,
   "id": "ef721b36",
   "metadata": {},
   "outputs": [
    {
     "name": "stdout",
     "output_type": "stream",
     "text": [
      "Single line comment -> #\n",
      "Multiline comment -> ''' '''\n"
     ]
    }
   ],
   "source": [
    "# Comments\n",
    "\n",
    "#I'm Tayyaba Mustafa.\n",
    "\n",
    "print(\"Single line comment -> #\")\n",
    "\n",
    "\"\"\"I'm Tayyaba Mustafa from Faisalabad,Pakistan. \n",
    "I am currently pursuing a Bachelor's degree in \n",
    "Computer Science at University of Agriculture,Faisalabad.\"\"\"\n",
    "\n",
    "'''I'm Tayyaba Mustafa from Faisalabad,Pakistan. \n",
    "I am currently pursuing a Bachelor's degree in \n",
    "Computer Science at University of Agriculture,Faisalabad. \n",
    "'''\n",
    "\n",
    "print(\"Multiline comment -> ''' '''\")"
   ]
  },
  {
   "cell_type": "code",
   "execution_count": 6,
   "id": "6cd3ce0f",
   "metadata": {},
   "outputs": [
    {
     "ename": "SyntaxError",
     "evalue": "invalid syntax (1644327193.py, line 2)",
     "output_type": "error",
     "traceback": [
      "\u001b[1;36m  Cell \u001b[1;32mIn[6], line 2\u001b[1;36m\u001b[0m\n\u001b[1;33m    is = \"Keyword or Reserve word\"\u001b[0m\n\u001b[1;37m    ^\u001b[0m\n\u001b[1;31mSyntaxError\u001b[0m\u001b[1;31m:\u001b[0m invalid syntax\n"
     ]
    }
   ],
   "source": [
    "# Keywords or Reserve words\n",
    "\n",
    "'''\n",
    "Following are some keywords in Python:\n",
    "\n",
    "False, is, in, Lambda, True, None, if, elif, break, else, continue, class, not, and, or\n",
    "'''\n",
    "\n",
    "a = \"a variable\"\n",
    "is = \"Keyword or Reserve word\"\n",
    "print(a)\n",
    "print(is)"
   ]
  },
  {
   "cell_type": "code",
   "execution_count": 8,
   "id": "4b88a8a7",
   "metadata": {},
   "outputs": [
    {
     "name": "stdout",
     "output_type": "stream",
     "text": [
      "5\n",
      "20.5\n",
      "25.5\n",
      "iCode + Guru\n"
     ]
    }
   ],
   "source": [
    "# Python Variables\n",
    "\n",
    "a = 5\n",
    "b = 20.5\n",
    "print(a)\n",
    "print(b)\n",
    "print(a+b)\n",
    "\n",
    "x = \"iCode\"\n",
    "y = \"Guru\"\n",
    "print(x,\"+\",y)"
   ]
  },
  {
   "cell_type": "code",
   "execution_count": 9,
   "id": "dfb50985",
   "metadata": {},
   "outputs": [
    {
     "name": "stdout",
     "output_type": "stream",
     "text": [
      "100\n",
      "5.9\n",
      "Python\n"
     ]
    }
   ],
   "source": [
    "# Types of variable name cases\n",
    "'''\n",
    "->Camel Case\n",
    "->Snake Case\n",
    "->Pascal Case\n",
    "'''\n",
    "\n",
    "camelCaseThird = '100'\n",
    "snake_case = 5.9\n",
    "PascalCase = \"Python\"\n",
    "\n",
    "print(camelCaseThird)\n",
    "print(snake_case)\n",
    "print(PascalCase)"
   ]
  },
  {
   "cell_type": "code",
   "execution_count": 11,
   "id": "1376bde4",
   "metadata": {},
   "outputs": [
    {
     "name": "stdout",
     "output_type": "stream",
     "text": [
      "Apple\n",
      "20\n",
      "10.3\n",
      "Orange\n",
      "Orange\n",
      "Orange\n"
     ]
    }
   ],
   "source": [
    "#Assigning values to the variable\n",
    "\n",
    "#Multiple values to multiple variables\n",
    "\n",
    "x , y , z = \"Apple\" , 20 , 10.3\n",
    "print(x)\n",
    "print(y)\n",
    "print(z)\n",
    "\n",
    "#One value to multiple variables\n",
    "\n",
    "a = b = c = \"Orange\"\n",
    "print(a)\n",
    "print(b)\n",
    "print(c)"
   ]
  },
  {
   "cell_type": "code",
   "execution_count": 15,
   "id": "596b0628",
   "metadata": {},
   "outputs": [
    {
     "name": "stdout",
     "output_type": "stream",
     "text": [
      "10\n",
      "140723777672264\n",
      "50\n",
      "50\n",
      "140723777673544\n",
      "140723777673544\n",
      "2287705884208\n",
      "2287706271408\n"
     ]
    }
   ],
   "source": [
    "# Getting Address of a variable\n",
    "\n",
    "x = 10\n",
    "print(x)\n",
    "print(id(x))\n",
    "\n",
    "a = 50\n",
    "b = a\n",
    "print(a)\n",
    "print(b)\n",
    "print(id(a))\n",
    "print(id(b))\n",
    "\n",
    "x = \"Hello\"\n",
    "print(id(x))\n",
    "y = \"Hello1\"\n",
    "print(id(y))"
   ]
  },
  {
   "cell_type": "code",
   "execution_count": 17,
   "id": "91eb08d2",
   "metadata": {},
   "outputs": [
    {
     "name": "stdout",
     "output_type": "stream",
     "text": [
      "3\n",
      "7.349\n",
      "(6+2j)\n",
      "The type of a is <class 'int'>\n",
      "The type of a is <class 'float'>\n",
      "The type of a is <class 'complex'>\n",
      "Hello World!!\n",
      "The type of a is <class 'str'>\n",
      "True\n",
      "The type of n is <class 'bool'>\n",
      "[8, 2.3, [-4, 5], ['Apple', 'Banana']]\n",
      "The type of list1 is <class 'list'>\n",
      "(('parrot', 'sparrow'), ('Lion', 'Tiger'))\n",
      "The type of tuple1 is <class 'tuple'>\n",
      "{'Name': 'Tayyaba', 'Age': 21, 'canVote': True}\n",
      "The type of dict1 is <class 'dict'>\n",
      "{'banana', 'cherry', 'apple'}\n",
      "The type of myset is <class 'set'>\n"
     ]
    }
   ],
   "source": [
    "# DataTypes and Type function\n",
    "\n",
    "#Numeric Type:int,float,complex\n",
    "a=3\n",
    "b=7.349\n",
    "c=complex(6,2)\n",
    "print(a)\n",
    "print(b)\n",
    "print(c)\n",
    "print(\"The type of a is\",type(a))\n",
    "print(\"The type of a is\",type(b))\n",
    "print(\"The type of a is\",type(c))\n",
    "\n",
    "#Text Type:str\n",
    "a=\"Hello World!!\"\n",
    "print(a)\n",
    "print(\"The type of a is\",type(a))\n",
    "\n",
    "#Boolean Type:bool\n",
    "n=True\n",
    "print(n)\n",
    "print(\"The type of n is\",type(n))\n",
    "\n",
    "#Sequence Types: list, tuple\n",
    "list1=[8,2.3,[-4,5],[\"Apple\",\"Banana\"]]\n",
    "print(list1)\n",
    "print(\"The type of list1 is\",type(list1))\n",
    "\n",
    "tuple1=((\"parrot\",\"sparrow\"),(\"Lion\",\"Tiger\"))\n",
    "print(tuple1)\n",
    "print(\"The type of tuple1 is\",type(tuple1))\n",
    "\n",
    "#Mapping Type: dict\n",
    "dict1={\"Name\":\"Tayyaba\",\"Age\":21,\"canVote\":True}\n",
    "print(dict1)\n",
    "print(\"The type of dict1 is\",type(dict1))\n",
    "\n",
    "#Set Type: set\n",
    "myset={\"apple\",\"banana\",\"cherry\"}\n",
    "print(myset)\n",
    "print(\"The type of myset is\",type(myset))"
   ]
  },
  {
   "cell_type": "code",
   "execution_count": 22,
   "id": "ecabd627",
   "metadata": {},
   "outputs": [
    {
     "name": "stdout",
     "output_type": "stream",
     "text": [
      "10.5\n",
      "<class 'float'>\n",
      "10\n",
      "<class 'int'>\n",
      "10\n",
      "<class 'int'>\n",
      "10.0\n",
      "<class 'float'>\n"
     ]
    }
   ],
   "source": [
    "#Typecasting\n",
    "\n",
    "#float -> int\n",
    "a = 10.5\n",
    "print(a)\n",
    "print(type(a))\n",
    "a = int(a)\n",
    "print(a)\n",
    "print(type(a))\n",
    "\n",
    "#int -> float\n",
    "b = 10\n",
    "print(b)\n",
    "print(type(b))\n",
    "b = float(b)\n",
    "print(b)\n",
    "print(type(b))\n"
   ]
  },
  {
   "cell_type": "code",
   "execution_count": 26,
   "id": "43b6647e",
   "metadata": {},
   "outputs": [
    {
     "name": "stdout",
     "output_type": "stream",
     "text": [
      "40\n",
      "<class 'int'>\n",
      "40\n",
      "<class 'str'>\n",
      "95.7\n",
      "<class 'str'>\n",
      "95.7\n",
      "<class 'float'>\n"
     ]
    }
   ],
   "source": [
    "#numeric -> String\n",
    "c = 40\n",
    "print(c)\n",
    "print(type(c))\n",
    "c = str(c)\n",
    "print(c)\n",
    "print(type(c))\n",
    "\n",
    "#String -> numeric ---->Only possible if the string consists of numbers\n",
    "d = \"95.7\"\n",
    "print(d)\n",
    "print(type(d))\n",
    "d = float(d)\n",
    "print(d)\n",
    "print(type(d))"
   ]
  },
  {
   "cell_type": "code",
   "execution_count": 31,
   "id": "2e1daa48",
   "metadata": {},
   "outputs": [
    {
     "name": "stdout",
     "output_type": "stream",
     "text": [
      "True\n",
      "<class 'bool'>\n",
      "1\n",
      "<class 'int'>\n",
      "True\n",
      "<class 'bool'>\n",
      "True\n",
      "<class 'str'>\n"
     ]
    }
   ],
   "source": [
    "#Boolean to Numeric\n",
    "m = True\n",
    "print(m)\n",
    "print(type(m))\n",
    "m = int(m)\n",
    "print(m)\n",
    "print(type(m))\n",
    "\n",
    "#Boolean to String\n",
    "n = True\n",
    "print(n)\n",
    "print(type(n))\n",
    "n = str(n)\n",
    "print(n)\n",
    "print(type(n))"
   ]
  },
  {
   "cell_type": "code",
   "execution_count": 36,
   "id": "a92eeadb",
   "metadata": {},
   "outputs": [
    {
     "name": "stdout",
     "output_type": "stream",
     "text": [
      "0\n",
      "<class 'int'>\n",
      "False\n",
      "<class 'bool'>\n"
     ]
    }
   ],
   "source": [
    "# Numeric to Boolean\n",
    "x = 0\n",
    "print(x)\n",
    "print(type(x))\n",
    "x = bool(x)\n",
    "print(x)\n",
    "print(type(x))"
   ]
  },
  {
   "cell_type": "code",
   "execution_count": 40,
   "id": "593cd7cd",
   "metadata": {},
   "outputs": [
    {
     "name": "stdout",
     "output_type": "stream",
     "text": [
      "Enter your marks:50\n",
      "<class 'str'>\n",
      "Enter your age: 20\n",
      "your age is:  20\n",
      "your age after 5 years will be = 25\n"
     ]
    }
   ],
   "source": [
    "#Input function\n",
    "\n",
    "marks=input(\"Enter your marks:\")\n",
    "print(type(marks))\n",
    "\n",
    "age = int(input(\"Enter your age: \"))\n",
    "print(\"your age is: \", age)\n",
    "print(\"your age after 5 years will be =\",age + 5 )"
   ]
  },
  {
   "cell_type": "code",
   "execution_count": 41,
   "id": "dfad789f",
   "metadata": {},
   "outputs": [
    {
     "name": "stdout",
     "output_type": "stream",
     "text": [
      "19\n",
      "11\n",
      "60\n",
      "3.75\n",
      "3\n",
      "50625\n",
      "3\n"
     ]
    }
   ],
   "source": [
    "#Operators\n",
    "\n",
    "#Arithmetic Operators\n",
    "a = 15\n",
    "b = 4\n",
    "\n",
    "#Addition +\n",
    "print(a+b)\n",
    "\n",
    "#Subtraction -\n",
    "print(a-b)\n",
    "\n",
    "#Multiplication *\n",
    "print(a*b)\n",
    "\n",
    "#Division / ---->always gives float\n",
    "print(a/b)\n",
    "\n",
    "#Modulus % --->gives reminder\n",
    "print(a%b)\n",
    "\n",
    "#Exponential **\n",
    "print(a**b)\n",
    "\n",
    "#Floor Division // ----->always gives integer\n",
    "print(a//b)"
   ]
  },
  {
   "cell_type": "code",
   "execution_count": 42,
   "id": "535a1cc3",
   "metadata": {},
   "outputs": [
    {
     "name": "stdout",
     "output_type": "stream",
     "text": [
      "22\n"
     ]
    }
   ],
   "source": [
    "#Operator Precedence\n",
    "'''\n",
    "->paranthesis ()\n",
    "\n",
    "->exponentiation **\n",
    "\n",
    "->multiplication * / division / / f.d// / modulus%\n",
    "\n",
    "->addition, subtraction +,-\n",
    "'''\n",
    "\n",
    "print(12 + 5 * (4 - 2))"
   ]
  },
  {
   "cell_type": "code",
   "execution_count": 46,
   "id": "356cae1d",
   "metadata": {},
   "outputs": [
    {
     "name": "stdout",
     "output_type": "stream",
     "text": [
      "5\n"
     ]
    }
   ],
   "source": [
    "#Assignment Operators\n",
    "\n",
    "x = 3\n",
    "\n",
    "x += 2\n",
    "# x -= 2\n",
    "# x *= 2\n",
    "# x /= 2\n",
    "# x %= 2\n",
    "# x //= 2\n",
    "# x **= 2\n",
    "print(x)"
   ]
  },
  {
   "cell_type": "code",
   "execution_count": 47,
   "id": "d25f9979",
   "metadata": {},
   "outputs": [
    {
     "name": "stdout",
     "output_type": "stream",
     "text": [
      "False\n",
      "True\n",
      "False\n",
      "True\n",
      "False\n",
      "True\n"
     ]
    }
   ],
   "source": [
    "#Comparison Operators\n",
    "'''\n",
    "\">\" is greater than\n",
    "\n",
    "\"<\" is smaller than\n",
    "\n",
    "\">=\" is greater than or equal to\n",
    "\n",
    "\"<=\" is smaller than or equal to\n",
    "\n",
    "\"==\" is equal to\n",
    "\n",
    "\"!=\" is not equal to\n",
    "'''\n",
    "\n",
    "a = 4\n",
    "b = 5\n",
    "print(a>b)\n",
    "print(a<b)\n",
    "print(a>=b)\n",
    "print(a<=b)\n",
    "print(a==b)\n",
    "print(a!=b)"
   ]
  },
  {
   "cell_type": "code",
   "execution_count": 49,
   "id": "3d0c6d07",
   "metadata": {},
   "outputs": [
    {
     "name": "stdout",
     "output_type": "stream",
     "text": [
      "False\n",
      "True\n",
      "False\n"
     ]
    }
   ],
   "source": [
    "# Boolean operators or logical operators\n",
    "'''\n",
    "->and\n",
    "->or\n",
    "->not\n",
    "'''\n",
    "\n",
    "x = 5\n",
    "print(x>5 and x<10)\n",
    "print(x>5 or x<10)\n",
    "print(not x<10)"
   ]
  },
  {
   "cell_type": "code",
   "execution_count": 50,
   "id": "9fdbc02b",
   "metadata": {},
   "outputs": [
    {
     "name": "stdout",
     "output_type": "stream",
     "text": [
      "True\n",
      "False\n"
     ]
    }
   ],
   "source": [
    "#Membership Operators\n",
    "'''\n",
    "->in\n",
    "->not in\n",
    "'''\n",
    "\n",
    "x=\"Python Programming Language\"\n",
    "y=[\"Orange\", 5, \"10.3\"]\n",
    "print(\"y\" in x)\n",
    "print(\"Orange\" not in y)"
   ]
  },
  {
   "cell_type": "code",
   "execution_count": 54,
   "id": "6812f62e",
   "metadata": {},
   "outputs": [
    {
     "name": "stdout",
     "output_type": "stream",
     "text": [
      "False\n",
      "2287705013136\n",
      "2287705001616\n",
      "True\n",
      "140723777672104\n",
      "140723777672104\n"
     ]
    }
   ],
   "source": [
    "#Identity Operator\n",
    "'''\n",
    "->is\n",
    "->is not\n",
    "'''\n",
    "\n",
    "a = 10.1\n",
    "b = 10.1\n",
    "\n",
    "print(a is b)\n",
    "print(id(a))\n",
    "print(id(b))\n",
    "\n",
    "x = 5\n",
    "y = x\n",
    "print(x is y)\n",
    "print(id(x))\n",
    "print(id(y))\n"
   ]
  }
 ],
 "metadata": {
  "kernelspec": {
   "display_name": "Python 3 (ipykernel)",
   "language": "python",
   "name": "python3"
  },
  "language_info": {
   "codemirror_mode": {
    "name": "ipython",
    "version": 3
   },
   "file_extension": ".py",
   "mimetype": "text/x-python",
   "name": "python",
   "nbconvert_exporter": "python",
   "pygments_lexer": "ipython3",
   "version": "3.11.5"
  }
 },
 "nbformat": 4,
 "nbformat_minor": 5
}

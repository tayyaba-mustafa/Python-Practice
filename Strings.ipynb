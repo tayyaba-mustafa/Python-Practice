{
  "nbformat": 4,
  "nbformat_minor": 0,
  "metadata": {
    "colab": {
      "provenance": [],
      "authorship_tag": "ABX9TyNE8LGPjMGfqL/QYqQJfvZ9",
      "include_colab_link": true
    },
    "kernelspec": {
      "name": "python3",
      "display_name": "Python 3"
    },
    "language_info": {
      "name": "python"
    }
  },
  "cells": [
    {
      "cell_type": "markdown",
      "metadata": {
        "id": "view-in-github",
        "colab_type": "text"
      },
      "source": [
        "<a href=\"https://colab.research.google.com/github/tayyaba-mustafa/Python-Practice/blob/main/Strings.ipynb\" target=\"_parent\"><img src=\"https://colab.research.google.com/assets/colab-badge.svg\" alt=\"Open In Colab\"/></a>"
      ]
    },
    {
      "cell_type": "markdown",
      "source": [
        "**Python String:**"
      ],
      "metadata": {
        "id": "L9m-I1oDg8On"
      }
    },
    {
      "cell_type": "code",
      "execution_count": null,
      "metadata": {
        "colab": {
          "base_uri": "https://localhost:8080/"
        },
        "id": "9q-JzdHPUApw",
        "outputId": "1ea80b3e-50c9-4e5d-e7cb-87d2a233f60f"
      },
      "outputs": [
        {
          "output_type": "stream",
          "name": "stdout",
          "text": [
            "Python\n",
            "Programming\n"
          ]
        }
      ],
      "source": [
        "x = \"Python\"\n",
        "print(x)\n",
        "y = 'Programming'\n",
        "print(y)"
      ]
    },
    {
      "cell_type": "markdown",
      "source": [
        "**Multiline String:**"
      ],
      "metadata": {
        "id": "XnPaOf_Ki4V4"
      }
    },
    {
      "cell_type": "code",
      "source": [
        "a = \"\"\"Hello everyone! I'm Tayyaba Mustafa.\n",
        "\n",
        "I'm currently pursuing my bachelor's in Computer science.\"\"\"\n",
        "print(a)"
      ],
      "metadata": {
        "colab": {
          "base_uri": "https://localhost:8080/"
        },
        "id": "gesDcGsMiLEB",
        "outputId": "4d21ec95-7e07-41fb-a7ca-219de988cc59"
      },
      "execution_count": null,
      "outputs": [
        {
          "output_type": "stream",
          "name": "stdout",
          "text": [
            "Hello everyone! I'm Tayyaba Mustafa.\n",
            "\n",
            "I'm currently pursuing my bachelor's in Computer science.\n"
          ]
        }
      ]
    },
    {
      "cell_type": "markdown",
      "source": [
        "**String Concatenation:**"
      ],
      "metadata": {
        "id": "m9mhpDD0jHZG"
      }
    },
    {
      "cell_type": "code",
      "source": [
        "a = \"Codebettle's\"\n",
        "b = \"Python\"\n",
        "c = \"Crash\"\n",
        "d = \"Course\"\n",
        "print(a+b+c+d)\n",
        "\n",
        "print(a+\" \"+b+\" \"+c+\" \"+d)"
      ],
      "metadata": {
        "colab": {
          "base_uri": "https://localhost:8080/"
        },
        "id": "BtyYOOCsixVv",
        "outputId": "946df3d8-1073-4a06-fdb0-c38470d0e70d"
      },
      "execution_count": null,
      "outputs": [
        {
          "output_type": "stream",
          "name": "stdout",
          "text": [
            "Codebettle'sPythonCrashCourse\n",
            "Codebettle's Python Crash Course\n"
          ]
        }
      ]
    },
    {
      "cell_type": "markdown",
      "source": [
        "**Formatted String:**"
      ],
      "metadata": {
        "id": "ah-5zr2zj241"
      }
    },
    {
      "cell_type": "code",
      "source": [
        "w = \"55kg\"\n",
        "print(f\"My weight is {w}.\")"
      ],
      "metadata": {
        "colab": {
          "base_uri": "https://localhost:8080/"
        },
        "id": "l7YITZPakE69",
        "outputId": "83969103-29d5-43a7-8ba5-227e9775b79c"
      },
      "execution_count": null,
      "outputs": [
        {
          "output_type": "stream",
          "name": "stdout",
          "text": [
            "My weight is 55kg.\n"
          ]
        }
      ]
    },
    {
      "cell_type": "markdown",
      "source": [
        "**Strings are Arrays:**"
      ],
      "metadata": {
        "id": "8ilxKvplZGzQ"
      }
    },
    {
      "cell_type": "code",
      "source": [
        "x = \"Hello World!\"\n",
        "print(x[4])\n",
        "print(id(x))\n",
        "print(id(x[4]))\n",
        "print(id(x[1]))"
      ],
      "metadata": {
        "colab": {
          "base_uri": "https://localhost:8080/"
        },
        "id": "-AIQ8Ks2Zya-",
        "outputId": "3951b46b-9513-445c-ee3d-bffc03f4534f"
      },
      "execution_count": null,
      "outputs": [
        {
          "output_type": "stream",
          "name": "stdout",
          "text": [
            "o\n",
            "140073051216816\n",
            "140073764198640\n",
            "140073764460080\n"
          ]
        }
      ]
    },
    {
      "cell_type": "markdown",
      "source": [
        "**String:**"
      ],
      "metadata": {
        "id": "tY2FnkWXaoXA"
      }
    },
    {
      "cell_type": "code",
      "source": [
        "a = \"Tayyaba Mustafa\"\n",
        "a[2] = \"i\"   #Strings are immutable\n",
        "print(a)"
      ],
      "metadata": {
        "colab": {
          "base_uri": "https://localhost:8080/",
          "height": 176
        },
        "id": "gFtSO29Na8Hi",
        "outputId": "776cdd29-70eb-476b-b673-2808d91c3f80"
      },
      "execution_count": null,
      "outputs": [
        {
          "output_type": "error",
          "ename": "TypeError",
          "evalue": "'str' object does not support item assignment",
          "traceback": [
            "\u001b[0;31m---------------------------------------------------------------------------\u001b[0m",
            "\u001b[0;31mTypeError\u001b[0m                                 Traceback (most recent call last)",
            "\u001b[0;32m<ipython-input-3-511f5ae9cfa8>\u001b[0m in \u001b[0;36m<cell line: 2>\u001b[0;34m()\u001b[0m\n\u001b[1;32m      1\u001b[0m \u001b[0ma\u001b[0m \u001b[0;34m=\u001b[0m \u001b[0;34m\"Tayyaba Mustafa\"\u001b[0m\u001b[0;34m\u001b[0m\u001b[0;34m\u001b[0m\u001b[0m\n\u001b[0;32m----> 2\u001b[0;31m \u001b[0ma\u001b[0m\u001b[0;34m[\u001b[0m\u001b[0;36m2\u001b[0m\u001b[0;34m]\u001b[0m \u001b[0;34m=\u001b[0m \u001b[0;34m\"i\"\u001b[0m\u001b[0;34m\u001b[0m\u001b[0;34m\u001b[0m\u001b[0m\n\u001b[0m\u001b[1;32m      3\u001b[0m \u001b[0mprint\u001b[0m\u001b[0;34m(\u001b[0m\u001b[0ma\u001b[0m\u001b[0;34m)\u001b[0m\u001b[0;34m\u001b[0m\u001b[0;34m\u001b[0m\u001b[0m\n",
            "\u001b[0;31mTypeError\u001b[0m: 'str' object does not support item assignment"
          ]
        }
      ]
    },
    {
      "cell_type": "markdown",
      "source": [
        "**Negative Indexing:**"
      ],
      "metadata": {
        "id": "ZO1UDLoPbdo5"
      }
    },
    {
      "cell_type": "code",
      "source": [
        "x = \"Hello world\"\n",
        "print(x[-1])\n",
        "print(x[-2])\n",
        "print(x[-3])"
      ],
      "metadata": {
        "colab": {
          "base_uri": "https://localhost:8080/"
        },
        "id": "WK5KMzL-dAnl",
        "outputId": "f83499f2-90c3-4a1d-b88f-b4d081fefe59"
      },
      "execution_count": null,
      "outputs": [
        {
          "output_type": "stream",
          "name": "stdout",
          "text": [
            "d\n",
            "l\n",
            "r\n"
          ]
        }
      ]
    },
    {
      "cell_type": "markdown",
      "source": [
        "**String Length:**"
      ],
      "metadata": {
        "id": "NoC51vIpdRN3"
      }
    },
    {
      "cell_type": "code",
      "source": [
        "a = \"Hyy Everyone!\"\n",
        "print(len(a))"
      ],
      "metadata": {
        "colab": {
          "base_uri": "https://localhost:8080/"
        },
        "id": "D6ZRKTKZdYq9",
        "outputId": "42c0e12f-1e7f-4620-d45f-47e251c5e300"
      },
      "execution_count": null,
      "outputs": [
        {
          "output_type": "stream",
          "name": "stdout",
          "text": [
            "13\n"
          ]
        }
      ]
    },
    {
      "cell_type": "markdown",
      "source": [
        "**String Index:**"
      ],
      "metadata": {
        "id": "WdYrsem4dmvH"
      }
    },
    {
      "cell_type": "code",
      "source": [
        "x = \"I am a programmer.\"\n",
        "print(x.index(\"m\"))"
      ],
      "metadata": {
        "colab": {
          "base_uri": "https://localhost:8080/"
        },
        "id": "eMigdqcMdsmW",
        "outputId": "ad4c8f38-bfbc-4749-b891-4e4309aed2b1"
      },
      "execution_count": null,
      "outputs": [
        {
          "output_type": "stream",
          "name": "stdout",
          "text": [
            "3\n"
          ]
        }
      ]
    },
    {
      "cell_type": "markdown",
      "source": [
        "**Looping through a string:**"
      ],
      "metadata": {
        "id": "FcEHOiR5d__6"
      }
    },
    {
      "cell_type": "code",
      "source": [
        "for i in \"Python Programming\":\n",
        "  print(i)"
      ],
      "metadata": {
        "colab": {
          "base_uri": "https://localhost:8080/"
        },
        "id": "u37o9OejeGio",
        "outputId": "24a37cab-b02e-4428-d80d-6a2549b5e275"
      },
      "execution_count": null,
      "outputs": [
        {
          "output_type": "stream",
          "name": "stdout",
          "text": [
            "P\n",
            "y\n",
            "t\n",
            "h\n",
            "o\n",
            "n\n",
            " \n",
            "P\n",
            "r\n",
            "o\n",
            "g\n",
            "r\n",
            "a\n",
            "m\n",
            "m\n",
            "i\n",
            "n\n",
            "g\n"
          ]
        }
      ]
    },
    {
      "cell_type": "markdown",
      "source": [
        "**Membership Operators:**"
      ],
      "metadata": {
        "id": "6BrVr9e2eazM"
      }
    },
    {
      "cell_type": "code",
      "source": [
        "a = \"Python Programming Language\"\n",
        "print(\"g\" in a)\n",
        "print(\"q\" in a)\n",
        "print(\"w\" not in a)\n",
        "print(\"e\" not in a)"
      ],
      "metadata": {
        "colab": {
          "base_uri": "https://localhost:8080/"
        },
        "id": "Eh-GF3QcehNc",
        "outputId": "7d3e5769-d0a6-4184-c7f3-ca15e27fce4b"
      },
      "execution_count": null,
      "outputs": [
        {
          "output_type": "stream",
          "name": "stdout",
          "text": [
            "True\n",
            "False\n",
            "True\n",
            "False\n"
          ]
        }
      ]
    },
    {
      "cell_type": "markdown",
      "source": [
        "**Slicing:**"
      ],
      "metadata": {
        "id": "5SB6urD6fEzF"
      }
    },
    {
      "cell_type": "code",
      "source": [
        "a = \"Python Programming Language\"\n",
        "print(a[4:15:2])\n",
        "print(a[::-1]) #reverse a string"
      ],
      "metadata": {
        "colab": {
          "base_uri": "https://localhost:8080/"
        },
        "id": "DykM9tCjfIVe",
        "outputId": "ff0c9e70-18fa-4b15-8b56-7ffb7a5e3c1b"
      },
      "execution_count": null,
      "outputs": [
        {
          "output_type": "stream",
          "name": "stdout",
          "text": [
            "o rgam\n",
            "egaugnaL gnimmargorP nohtyP\n"
          ]
        }
      ]
    },
    {
      "cell_type": "markdown",
      "source": [
        "**String methods:**"
      ],
      "metadata": {
        "id": "BCKuxkgrfqPL"
      }
    },
    {
      "cell_type": "code",
      "source": [
        "#Upper case\n",
        "a = \"TaYYaba MusTAFA\"\n",
        "print(a.upper())\n",
        "\n",
        "#Lower case\n",
        "print(a.lower())\n",
        "\n",
        "#Capitalize\n",
        "print(a.capitalize())"
      ],
      "metadata": {
        "colab": {
          "base_uri": "https://localhost:8080/"
        },
        "id": "eE-8JsMUggwL",
        "outputId": "88d9f827-aba8-4d32-e54a-a0581628e88d"
      },
      "execution_count": null,
      "outputs": [
        {
          "output_type": "stream",
          "name": "stdout",
          "text": [
            "TAYYABA MUSTAFA\n",
            "tayyaba mustafa\n",
            "Tayyaba mustafa\n"
          ]
        }
      ]
    },
    {
      "cell_type": "code",
      "source": [
        "#Sorted\n",
        "x = \"Hello Tayyaba!\"\n",
        "print(sorted(x))"
      ],
      "metadata": {
        "colab": {
          "base_uri": "https://localhost:8080/"
        },
        "id": "gxM6HfO6hsE3",
        "outputId": "0be87a0a-55a4-4ee9-e7c8-dc3bfbe0e1cd"
      },
      "execution_count": null,
      "outputs": [
        {
          "output_type": "stream",
          "name": "stdout",
          "text": [
            "[' ', '!', 'H', 'T', 'a', 'a', 'a', 'b', 'e', 'l', 'l', 'o', 'y', 'y']\n"
          ]
        }
      ]
    },
    {
      "cell_type": "code",
      "source": [
        "#Join:\n",
        "x = \"Python Programming\"\n",
        "a = \"/\".join(x)\n",
        "print(a)"
      ],
      "metadata": {
        "id": "2zYdStdWi7iv",
        "colab": {
          "base_uri": "https://localhost:8080/"
        },
        "outputId": "c7205a2b-f9ee-43a6-e1ab-c55680d5231e"
      },
      "execution_count": 2,
      "outputs": [
        {
          "output_type": "stream",
          "name": "stdout",
          "text": [
            "P/y/t/h/o/n/ /P/r/o/g/r/a/m/m/i/n/g\n"
          ]
        }
      ]
    },
    {
      "cell_type": "code",
      "source": [
        "#Count\n",
        "x = \"Python Programming\"\n",
        "print(x.count(\"o\"))"
      ],
      "metadata": {
        "colab": {
          "base_uri": "https://localhost:8080/"
        },
        "id": "ysRxmzEiSbAf",
        "outputId": "fe4ea25f-38d4-4dc3-b4ad-63b5bd2979a8"
      },
      "execution_count": 3,
      "outputs": [
        {
          "output_type": "stream",
          "name": "stdout",
          "text": [
            "2\n"
          ]
        }
      ]
    },
    {
      "cell_type": "code",
      "source": [
        "#endswith\n",
        "x = \"Python Programming\"\n",
        "print(x.endswith(\"ing\"))"
      ],
      "metadata": {
        "colab": {
          "base_uri": "https://localhost:8080/"
        },
        "id": "Ko0TcYeYS7ny",
        "outputId": "2c6fde71-3ff5-4d02-d41f-0d4e95361d58"
      },
      "execution_count": 4,
      "outputs": [
        {
          "output_type": "stream",
          "name": "stdout",
          "text": [
            "True\n"
          ]
        }
      ]
    },
    {
      "cell_type": "code",
      "source": [
        "#Startswith\n",
        "x = \"Python Programming\"\n",
        "print(x.startswith(\"m\"))"
      ],
      "metadata": {
        "colab": {
          "base_uri": "https://localhost:8080/"
        },
        "id": "hZEmFc9gTORx",
        "outputId": "d58ca0a6-89b1-4933-ec62-9374fc76de4b"
      },
      "execution_count": 5,
      "outputs": [
        {
          "output_type": "stream",
          "name": "stdout",
          "text": [
            "False\n"
          ]
        }
      ]
    },
    {
      "cell_type": "code",
      "source": [
        "#find\n",
        "x = \"Python Programming\"\n",
        "print(x.find(\"m\"))"
      ],
      "metadata": {
        "colab": {
          "base_uri": "https://localhost:8080/"
        },
        "id": "cklfP6j4TcCC",
        "outputId": "2a0c9e5d-dad7-4d32-e99e-e4348107ff38"
      },
      "execution_count": 6,
      "outputs": [
        {
          "output_type": "stream",
          "name": "stdout",
          "text": [
            "13\n"
          ]
        }
      ]
    },
    {
      "cell_type": "code",
      "source": [
        "#Escape Character\n",
        "x = \"Pyt\\thon\\t Program\\tming\"\n",
        "print(x)"
      ],
      "metadata": {
        "colab": {
          "base_uri": "https://localhost:8080/"
        },
        "id": "8aZK8EJbXL4m",
        "outputId": "bdb11389-e08a-4d20-9f32-bf95e734a4e3"
      },
      "execution_count": 7,
      "outputs": [
        {
          "output_type": "stream",
          "name": "stdout",
          "text": [
            "Pyt\thon\t Program\tming\n"
          ]
        }
      ]
    },
    {
      "cell_type": "code",
      "source": [
        "#Remove Whitespaces\n",
        "x = \"Hello world!\"\n",
        "a = \"  Hello world!  \"\n",
        "print(x.strip())\n",
        "print(a.strip())\n",
        "print(a.lstrip())\n",
        "print(a.rstrip())\n",
        "print(x.strip(\"Hel\"))"
      ],
      "metadata": {
        "colab": {
          "base_uri": "https://localhost:8080/"
        },
        "id": "kwCOXRVDYLvu",
        "outputId": "dceeb95f-4ebc-4c0f-879b-36e21749efcc"
      },
      "execution_count": 13,
      "outputs": [
        {
          "output_type": "stream",
          "name": "stdout",
          "text": [
            "Hello world!\n",
            "Hello world!\n",
            "Hello world!  \n",
            "  Hello world!\n",
            "o world!\n"
          ]
        }
      ]
    },
    {
      "cell_type": "code",
      "source": [
        "#Replace String\n",
        "x = \"Hello world!\"\n",
        "print(x.replace(\"world\",\"there\"))"
      ],
      "metadata": {
        "colab": {
          "base_uri": "https://localhost:8080/"
        },
        "id": "kjxkuzhWasMN",
        "outputId": "e50b8792-0bd1-4df5-ba51-97f0bc99777f"
      },
      "execution_count": 14,
      "outputs": [
        {
          "output_type": "stream",
          "name": "stdout",
          "text": [
            "Hello there!\n"
          ]
        }
      ]
    },
    {
      "cell_type": "code",
      "source": [
        "#Split String\n",
        "a = \"Python is a programming language.\"\n",
        "print(a.split())\n",
        "print(a.split(\"o\"))\n",
        "print(\"/\".join(a.split()))\n"
      ],
      "metadata": {
        "colab": {
          "base_uri": "https://localhost:8080/"
        },
        "id": "XQz-eSfwbNCV",
        "outputId": "6f5ee71f-dac0-44cb-99d5-914c00b4463b"
      },
      "execution_count": 17,
      "outputs": [
        {
          "output_type": "stream",
          "name": "stdout",
          "text": [
            "['Python', 'is', 'a', 'programming', 'language.']\n",
            "['Pyth', 'n is a pr', 'gramming language.']\n",
            "Python/is/a/programming/language.\n"
          ]
        }
      ]
    },
    {
      "cell_type": "code",
      "source": [
        "#Reverse String\n",
        "a = \"Python is a programming language.\"\n",
        "print(reversed(a))\n",
        "print(\"\".join(reversed(a)))\n",
        "print(\"/\".join(reversed(a)))"
      ],
      "metadata": {
        "colab": {
          "base_uri": "https://localhost:8080/"
        },
        "id": "SlvFjUrpc9mJ",
        "outputId": "cded6b65-937b-4e1c-88a6-04abcbc72223"
      },
      "execution_count": 21,
      "outputs": [
        {
          "output_type": "stream",
          "name": "stdout",
          "text": [
            "<reversed object at 0x7c9975d7e410>\n",
            ".egaugnal gnimmargorp a si nohtyP\n",
            "./e/g/a/u/g/n/a/l/ /g/n/i/m/m/a/r/g/o/r/p/ /a/ /s/i/ /n/o/h/t/y/P\n"
          ]
        }
      ]
    },
    {
      "cell_type": "code",
      "source": [
        "#Reverse of a string by using negative indexing\n",
        "b = \"Tayyaba Mustafa\"\n",
        "print(b[::-1])"
      ],
      "metadata": {
        "colab": {
          "base_uri": "https://localhost:8080/"
        },
        "id": "R6QZf17mH9HQ",
        "outputId": "2e7c336a-3a8f-40e1-bb53-5c822ebee92a"
      },
      "execution_count": 1,
      "outputs": [
        {
          "output_type": "stream",
          "name": "stdout",
          "text": [
            "afatsuM abayyaT\n"
          ]
        }
      ]
    }
  ]
}
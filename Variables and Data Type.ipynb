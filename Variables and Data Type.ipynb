{
 "cells": [
  {
   "cell_type": "code",
   "execution_count": 1,
   "id": "c5a5e9ad",
   "metadata": {},
   "outputs": [
    {
     "name": "stdout",
     "output_type": "stream",
     "text": [
      "1\n",
      "10\n",
      "True\n",
      "Harry\n",
      "None\n"
     ]
    }
   ],
   "source": [
    "a=1\n",
    "b=True\n",
    "c=\"Harry\"\n",
    "d=None\n",
    "a1=9\n",
    "print(a)\n",
    "print(a+a1)\n",
    "print(b)\n",
    "print(c)\n",
    "print(d)"
   ]
  },
  {
   "cell_type": "code",
   "execution_count": 2,
   "id": "df02f2d9",
   "metadata": {},
   "outputs": [
    {
     "name": "stdout",
     "output_type": "stream",
     "text": [
      "The type of a is <class 'int'>\n",
      "The type of b is <class 'bool'>\n",
      "The type of c is <class 'str'>\n",
      "The type of d is <class 'NoneType'>\n"
     ]
    }
   ],
   "source": [
    "print(\"The type of a is\",type(a))\n",
    "print(\"The type of b is\",type(b))\n",
    "print(\"The type of c is\",type(c))\n",
    "print(\"The type of d is\",type(d))"
   ]
  },
  {
   "cell_type": "code",
   "execution_count": 4,
   "id": "bd481aca",
   "metadata": {},
   "outputs": [
    {
     "name": "stdout",
     "output_type": "stream",
     "text": [
      "3\n",
      "7.349\n",
      "(6+2j)\n",
      "The type of a is <class 'int'>\n",
      "The type of a is <class 'float'>\n",
      "The type of a is <class 'complex'>\n"
     ]
    }
   ],
   "source": [
    "#Numeric Data:int,float,complex\n",
    "a=3\n",
    "b=7.349\n",
    "c=complex(6,2)\n",
    "print(a)\n",
    "print(b)\n",
    "print(c)\n",
    "print(\"The type of a is\",type(a))\n",
    "print(\"The type of a is\",type(b))\n",
    "print(\"The type of a is\",type(c))"
   ]
  },
  {
   "cell_type": "code",
   "execution_count": 5,
   "id": "25e80b12",
   "metadata": {},
   "outputs": [
    {
     "name": "stdout",
     "output_type": "stream",
     "text": [
      "Hello World!!\n",
      "The type of a is <class 'str'>\n"
     ]
    }
   ],
   "source": [
    "#Text Data:str\n",
    "a=\"Hello World!!\"\n",
    "print(a)\n",
    "print(\"The type of a is\",type(a))"
   ]
  },
  {
   "cell_type": "code",
   "execution_count": 6,
   "id": "945175eb",
   "metadata": {},
   "outputs": [
    {
     "name": "stdout",
     "output_type": "stream",
     "text": [
      "True\n",
      "The type of n is <class 'bool'>\n"
     ]
    }
   ],
   "source": [
    "#Boolean Data\n",
    "n=True\n",
    "print(n)\n",
    "print(\"The type of n is\",type(n))"
   ]
  },
  {
   "cell_type": "code",
   "execution_count": 7,
   "id": "af33569e",
   "metadata": {},
   "outputs": [
    {
     "name": "stdout",
     "output_type": "stream",
     "text": [
      "[8, 2.3, [-4, 5], ['Apple', 'Banana']]\n",
      "The type of list1 is <class 'list'>\n"
     ]
    }
   ],
   "source": [
    "#Sequenced Data:list\n",
    "list1=[8,2.3,[-4,5],[\"Apple\",\"Banana\"]]\n",
    "print(list1)\n",
    "print(\"The type of list1 is\",type(list1))"
   ]
  },
  {
   "cell_type": "code",
   "execution_count": 8,
   "id": "29b3f816",
   "metadata": {},
   "outputs": [
    {
     "name": "stdout",
     "output_type": "stream",
     "text": [
      "(('parrot', 'sparrow'), ('Lion', 'Tiger'))\n",
      "The type of tuple1 is <class 'tuple'>\n"
     ]
    }
   ],
   "source": [
    "#Sequenced Data:tuple\n",
    "tuple1=((\"parrot\",\"sparrow\"),(\"Lion\",\"Tiger\"))\n",
    "print(tuple1)\n",
    "print(\"The type of tuple1 is\",type(tuple1))"
   ]
  },
  {
   "cell_type": "code",
   "execution_count": 11,
   "id": "bdc58273",
   "metadata": {},
   "outputs": [
    {
     "name": "stdout",
     "output_type": "stream",
     "text": [
      "{'Name': 'Tayyaba', 'Age': 21, 'canVote': True}\n",
      "The type of dict1 is <class 'dict'>\n"
     ]
    }
   ],
   "source": [
    "#Mapped Data:dict\n",
    "dict1={\"Name\":\"Tayyaba\",\"Age\":21,\"canVote\":True}\n",
    "print(dict1)\n",
    "print(\"The type of dict1 is\",type(dict1))"
   ]
  },
  {
   "cell_type": "code",
   "execution_count": null,
   "id": "a9bba9ce",
   "metadata": {},
   "outputs": [],
   "source": []
  }
 ],
 "metadata": {
  "kernelspec": {
   "display_name": "Python 3 (ipykernel)",
   "language": "python",
   "name": "python3"
  },
  "language_info": {
   "codemirror_mode": {
    "name": "ipython",
    "version": 3
   },
   "file_extension": ".py",
   "mimetype": "text/x-python",
   "name": "python",
   "nbconvert_exporter": "python",
   "pygments_lexer": "ipython3",
   "version": "3.11.5"
  }
 },
 "nbformat": 4,
 "nbformat_minor": 5
}

{
  "nbformat": 4,
  "nbformat_minor": 0,
  "metadata": {
    "colab": {
      "provenance": [],
      "authorship_tag": "ABX9TyMvmQRyuClRkS2oJQKxgnWT",
      "include_colab_link": true
    },
    "kernelspec": {
      "name": "python3",
      "display_name": "Python 3"
    },
    "language_info": {
      "name": "python"
    }
  },
  "cells": [
    {
      "cell_type": "markdown",
      "metadata": {
        "id": "view-in-github",
        "colab_type": "text"
      },
      "source": [
        "<a href=\"https://colab.research.google.com/github/tayyaba-mustafa/Python-Practice/blob/main/List.ipynb\" target=\"_parent\"><img src=\"https://colab.research.google.com/assets/colab-badge.svg\" alt=\"Open In Colab\"/></a>"
      ]
    },
    {
      "cell_type": "markdown",
      "source": [
        "**List:**"
      ],
      "metadata": {
        "id": "z5dSZCESsXTU"
      }
    },
    {
      "cell_type": "code",
      "source": [
        "list1 = [\"Tayyaba\",10,True,5.3,\"Summer\",[2,\"cool\"]]\n",
        "print(list1)\n",
        "print(type(list1))"
      ],
      "metadata": {
        "colab": {
          "base_uri": "https://localhost:8080/"
        },
        "id": "KGLAsgB_srva",
        "outputId": "d5c35e07-622b-42ca-a2da-007c9d6be604"
      },
      "execution_count": 1,
      "outputs": [
        {
          "output_type": "stream",
          "name": "stdout",
          "text": [
            "['Tayyaba', 10, True, 5.3, 'Summer', [2, 'cool']]\n",
            "<class 'list'>\n"
          ]
        }
      ]
    },
    {
      "cell_type": "markdown",
      "source": [
        "**List Length:**"
      ],
      "metadata": {
        "id": "CyRn92lZtv8e"
      }
    },
    {
      "cell_type": "code",
      "source": [
        "list1 = [\"Tayyaba\",10,True,5.3,\"Summer\",[2,\"cool\"]]\n",
        "print(len(list1))"
      ],
      "metadata": {
        "colab": {
          "base_uri": "https://localhost:8080/"
        },
        "id": "WaGp_zDrt0IU",
        "outputId": "37278985-7470-4b00-c212-820ce64f9cf7"
      },
      "execution_count": 2,
      "outputs": [
        {
          "output_type": "stream",
          "name": "stdout",
          "text": [
            "6\n"
          ]
        }
      ]
    },
    {
      "cell_type": "markdown",
      "source": [
        "**Access List Items:**"
      ],
      "metadata": {
        "id": "okCS6lgvuFoJ"
      }
    },
    {
      "cell_type": "code",
      "source": [
        "list1 = [\"Tayyaba\",10,True,5.3,\"Summer\",[2,\"cool\"]]\n",
        "print(list1[3])\n",
        "print(list1[-1])\n",
        "print(list1[0::-1])\n",
        "print(list1[-2:-4:1])\n",
        "print(list1[-2:-4:-1])"
      ],
      "metadata": {
        "colab": {
          "base_uri": "https://localhost:8080/"
        },
        "id": "qrVzDFt8uQWT",
        "outputId": "62a3a4cb-722b-461d-e4dc-f0e6dea511f4"
      },
      "execution_count": 7,
      "outputs": [
        {
          "output_type": "stream",
          "name": "stdout",
          "text": [
            "5.3\n",
            "[2, 'cool']\n",
            "['Tayyaba']\n",
            "[]\n",
            "['Summer', 5.3]\n"
          ]
        }
      ]
    },
    {
      "cell_type": "markdown",
      "source": [
        "**Membership Operators in List:**"
      ],
      "metadata": {
        "id": "mgSCkUWPwffc"
      }
    },
    {
      "cell_type": "code",
      "source": [
        "list1 = [\"Tayyaba\",10,True,5.3,\"Summer\",[2,\"cool\"]]\n",
        "print(5.3 in list1)\n",
        "print(3 not in list1)\n",
        "print(\"T\" in list1)"
      ],
      "metadata": {
        "colab": {
          "base_uri": "https://localhost:8080/"
        },
        "id": "s9tJNO1vwuEi",
        "outputId": "c86ccb2e-ec2e-4fe2-e43b-bb2ac2ac991b"
      },
      "execution_count": 8,
      "outputs": [
        {
          "output_type": "stream",
          "name": "stdout",
          "text": [
            "True\n",
            "True\n",
            "False\n"
          ]
        }
      ]
    },
    {
      "cell_type": "markdown",
      "source": [
        "**Change List Items:**"
      ],
      "metadata": {
        "id": "DJ6k8xBixTT_"
      }
    },
    {
      "cell_type": "code",
      "source": [
        "list1 = [\"Tayyaba\",10,True,5.3,\"Summer\",[2,\"cool\"]]\n",
        "list1[1] = \"Mustafa\"\n",
        "list1[2:4] = [\"Programmer\"]\n",
        "print(list1)"
      ],
      "metadata": {
        "colab": {
          "base_uri": "https://localhost:8080/"
        },
        "id": "k1vnYbaTxY8w",
        "outputId": "eee5aa49-5e4b-41fe-f5d2-41a0f7b2869a"
      },
      "execution_count": 11,
      "outputs": [
        {
          "output_type": "stream",
          "name": "stdout",
          "text": [
            "['Tayyaba', 'Mustafa', 'Programmer', 'Summer', [2, 'cool']]\n"
          ]
        }
      ]
    },
    {
      "cell_type": "markdown",
      "source": [
        "**Add List Items:**"
      ],
      "metadata": {
        "id": "fqZKDV_NyICq"
      }
    },
    {
      "cell_type": "code",
      "source": [
        "list1 = [\"Tayyaba\",10,True,5.3,\"Summer\",[2,\"cool\"]]\n",
        "\n",
        "#Append()\n",
        "list1.append([\"Programmer\",30,False])\n",
        "print(list1)"
      ],
      "metadata": {
        "colab": {
          "base_uri": "https://localhost:8080/"
        },
        "id": "enJZ2bkEyM5x",
        "outputId": "af707ac9-c2e2-43a2-e43c-cd366bff33b9"
      },
      "execution_count": 13,
      "outputs": [
        {
          "output_type": "stream",
          "name": "stdout",
          "text": [
            "['Tayyaba', 10, True, 5.3, 'Summer', [2, 'cool'], ['Programmer', 30, False]]\n"
          ]
        }
      ]
    },
    {
      "cell_type": "code",
      "source": [
        "#Insert()\n",
        "list1 = [\"Tayyaba\",10,True,5.3,\"Summer\",[2,\"cool\"]]\n",
        "list1.insert(1,\"Mustafa\")\n",
        "print(list1)"
      ],
      "metadata": {
        "colab": {
          "base_uri": "https://localhost:8080/"
        },
        "id": "0gXx6iA5y-bT",
        "outputId": "89ef59d2-3439-43bd-cc2b-dbb6c5583307"
      },
      "execution_count": 14,
      "outputs": [
        {
          "output_type": "stream",
          "name": "stdout",
          "text": [
            "['Tayyaba', 'Mustafa', 10, True, 5.3, 'Summer', [2, 'cool']]\n"
          ]
        }
      ]
    },
    {
      "cell_type": "code",
      "source": [
        "#Extend()\n",
        "list1 = [\"Tayyaba\",10,True,5.3,\"Summer\",[2,\"cool\"]]\n",
        "list1.extend([\"Programmer\",30,False])\n",
        "print(list1)"
      ],
      "metadata": {
        "colab": {
          "base_uri": "https://localhost:8080/"
        },
        "id": "Ps_2mPn1zb1U",
        "outputId": "f5493f62-15e1-4274-b453-9341a0e48eaf"
      },
      "execution_count": 15,
      "outputs": [
        {
          "output_type": "stream",
          "name": "stdout",
          "text": [
            "['Tayyaba', 10, True, 5.3, 'Summer', [2, 'cool'], 'Programmer', 30, False]\n"
          ]
        }
      ]
    },
    {
      "cell_type": "markdown",
      "source": [
        "**Remove List Items:**"
      ],
      "metadata": {
        "id": "4PRS6TG20Gg5"
      }
    },
    {
      "cell_type": "code",
      "source": [
        "#remove()\n",
        "list1 = [\"Tayyaba\",10,True,5.3,\"Summer\",[2,\"cool\"]]\n",
        "list1.remove(\"Summer\")\n",
        "print(list1)"
      ],
      "metadata": {
        "colab": {
          "base_uri": "https://localhost:8080/"
        },
        "id": "l-gQCLK-0c1U",
        "outputId": "bc6e2b1e-5ff2-4c45-f971-08e87f0bf1c0"
      },
      "execution_count": 16,
      "outputs": [
        {
          "output_type": "stream",
          "name": "stdout",
          "text": [
            "['Tayyaba', 10, True, 5.3, [2, 'cool']]\n"
          ]
        }
      ]
    },
    {
      "cell_type": "code",
      "source": [
        "#pop()\n",
        "list1 = [\"Tayyaba\",10,True,5.3,\"Summer\",[2,\"cool\"]]\n",
        "list1.pop()\n",
        "print(list1)"
      ],
      "metadata": {
        "colab": {
          "base_uri": "https://localhost:8080/"
        },
        "id": "031xBfm31BPD",
        "outputId": "45be4180-3720-448b-fa67-dfe4384e231d"
      },
      "execution_count": 19,
      "outputs": [
        {
          "output_type": "stream",
          "name": "stdout",
          "text": [
            "['Tayyaba', 10, True, 5.3, 'Summer']\n"
          ]
        }
      ]
    },
    {
      "cell_type": "code",
      "source": [
        "#clear()\n",
        "list1 = [\"Tayyaba\",10,True,5.3,\"Summer\",[2,\"cool\"]]\n",
        "list1.clear()\n",
        "print(list1)"
      ],
      "metadata": {
        "colab": {
          "base_uri": "https://localhost:8080/"
        },
        "id": "UJ2FShZV14da",
        "outputId": "a408dc84-f305-466e-e2b3-f28f1800df2a"
      },
      "execution_count": 20,
      "outputs": [
        {
          "output_type": "stream",
          "name": "stdout",
          "text": [
            "[]\n"
          ]
        }
      ]
    },
    {
      "cell_type": "code",
      "source": [
        "#del\n",
        "list1 = [\"Tayyaba\",10,True,5.3,\"Summer\",[2,\"cool\"]]\n",
        "del list1[3]\n",
        "print(list1)\n",
        "del list1"
      ],
      "metadata": {
        "colab": {
          "base_uri": "https://localhost:8080/"
        },
        "id": "4glf4Yex2HmL",
        "outputId": "1a04d73a-4445-4cfd-93ed-2eaf1f0779ef"
      },
      "execution_count": 24,
      "outputs": [
        {
          "output_type": "stream",
          "name": "stdout",
          "text": [
            "['Tayyaba', 10, True, 'Summer', [2, 'cool']]\n"
          ]
        }
      ]
    },
    {
      "cell_type": "markdown",
      "source": [
        "**Sort List:**"
      ],
      "metadata": {
        "id": "MGX4RV2s3vNs"
      }
    },
    {
      "cell_type": "code",
      "source": [
        "list4 = [\"apple\", \"8\", \"Winter\", \"6.0\"] #Ascending Order\n",
        "list4.sort()\n",
        "print(list4)\n",
        "\n",
        "list4.sort(reverse = True) #Descending Order\n",
        "print(list4)"
      ],
      "metadata": {
        "colab": {
          "base_uri": "https://localhost:8080/"
        },
        "id": "W95YX2EE3yx2",
        "outputId": "7b5f361f-14ad-4e5c-ea37-27e3bf14a03b"
      },
      "execution_count": 29,
      "outputs": [
        {
          "output_type": "stream",
          "name": "stdout",
          "text": [
            "['6.0', '8', 'Winter', 'apple']\n",
            "['apple', 'Winter', '8', '6.0']\n"
          ]
        }
      ]
    },
    {
      "cell_type": "code",
      "source": [
        "list2 = [\"summer\", \"winter\", \"Spring\", \"autumn\", \"7\", \"9\"]\n",
        "list2.sort(key=str.lower)\n",
        "print(list2)\n",
        "\n",
        "list2.sort(key=str.upper)\n",
        "print(list2)"
      ],
      "metadata": {
        "colab": {
          "base_uri": "https://localhost:8080/"
        },
        "id": "dezXsVvJ4sxf",
        "outputId": "d20e1d06-e5e1-4960-f4ab-5b10d5bf0d66"
      },
      "execution_count": 31,
      "outputs": [
        {
          "output_type": "stream",
          "name": "stdout",
          "text": [
            "['7', '9', 'autumn', 'Spring', 'summer', 'winter']\n",
            "['7', '9', 'autumn', 'Spring', 'summer', 'winter']\n"
          ]
        }
      ]
    },
    {
      "cell_type": "markdown",
      "source": [
        "**Copy List:**"
      ],
      "metadata": {
        "id": "E4OGt3ww64AJ"
      }
    },
    {
      "cell_type": "code",
      "source": [
        "list5 = [\"apple\", \"Banana\", \"orange\", \"Apricot\"]\n",
        "list6 = list5\n",
        "print(list6)\n",
        "print(id(list5))\n",
        "print(id(list6))\n",
        "list5.append(\"Hello\")\n",
        "print(list5)\n",
        "print(list6)"
      ],
      "metadata": {
        "colab": {
          "base_uri": "https://localhost:8080/"
        },
        "id": "vRb0vJdf67bu",
        "outputId": "c1abaaf2-2715-4067-ac05-91e0a8f18ae0"
      },
      "execution_count": 33,
      "outputs": [
        {
          "output_type": "stream",
          "name": "stdout",
          "text": [
            "['apple', 'Banana', 'orange', 'Apricot']\n",
            "134443376475200\n",
            "134443376475200\n",
            "['apple', 'Banana', 'orange', 'Apricot', 'Hello']\n",
            "['apple', 'Banana', 'orange', 'Apricot', 'Hello']\n"
          ]
        }
      ]
    },
    {
      "cell_type": "code",
      "source": [
        "list1 = [\"Tayyaba\",10,True,5.3,\"Summer\",[2,\"cool\"]]\n",
        "copy1 = list1.copy()\n",
        "print(copy1)\n",
        "print(id(list1))\n",
        "print(id(copy1))\n",
        "list1.append(\"Programmer\")\n",
        "print(list1)\n",
        "print(copy1)"
      ],
      "metadata": {
        "colab": {
          "base_uri": "https://localhost:8080/"
        },
        "id": "d84PEUgH9gv-",
        "outputId": "aed4d80a-04b2-480b-e12c-102391d4cca9"
      },
      "execution_count": 35,
      "outputs": [
        {
          "output_type": "stream",
          "name": "stdout",
          "text": [
            "['Tayyaba', 10, True, 5.3, 'Summer', [2, 'cool']]\n",
            "134443375691584\n",
            "134443375698880\n",
            "['Tayyaba', 10, True, 5.3, 'Summer', [2, 'cool'], 'Programmer']\n",
            "['Tayyaba', 10, True, 5.3, 'Summer', [2, 'cool']]\n"
          ]
        }
      ]
    },
    {
      "cell_type": "markdown",
      "source": [
        "**Join List:**"
      ],
      "metadata": {
        "id": "PVg7Y8Ee_JpJ"
      }
    },
    {
      "cell_type": "code",
      "source": [
        "#Concatenating through + operator\n",
        "a = [\"apple\", \"Banana\", \"orange\", \"Apricot\"]\n",
        "b = [\"apple\", \"5\", \"Winter\", \"4.0\"]\n",
        "print(a+b)"
      ],
      "metadata": {
        "colab": {
          "base_uri": "https://localhost:8080/"
        },
        "id": "o3c3mO5A_McX",
        "outputId": "ef625e51-f448-46ff-88d7-95ecbf97f5bf"
      },
      "execution_count": 36,
      "outputs": [
        {
          "output_type": "stream",
          "name": "stdout",
          "text": [
            "['apple', 'Banana', 'orange', 'Apricot', 'apple', '5', 'Winter', '4.0']\n"
          ]
        }
      ]
    },
    {
      "cell_type": "code",
      "source": [
        "#Using extend() method\n",
        "a.extend(b)\n",
        "print(a)"
      ],
      "metadata": {
        "colab": {
          "base_uri": "https://localhost:8080/"
        },
        "id": "A_Se6UxO_YxU",
        "outputId": "44fef8fd-a0a3-4ad7-9358-2285afbfaa86"
      },
      "execution_count": 37,
      "outputs": [
        {
          "output_type": "stream",
          "name": "stdout",
          "text": [
            "['apple', 'Banana', 'orange', 'Apricot', 'apple', '5', 'Winter', '4.0']\n"
          ]
        }
      ]
    },
    {
      "cell_type": "code",
      "source": [
        "#appending each item using for loop\n",
        "x = [\"apple\", \"Banana\", \"orange\", \"Apricot\"]\n",
        "y = [\"apple\", \"5\", \"Winter\", \"4.0\"]\n",
        "for i in y:\n",
        "  x.append(i)\n",
        "print(x)"
      ],
      "metadata": {
        "colab": {
          "base_uri": "https://localhost:8080/"
        },
        "id": "8mr9tgvO_58Q",
        "outputId": "a380eda6-5dc5-4426-af20-b4e02eaf01d0"
      },
      "execution_count": 39,
      "outputs": [
        {
          "output_type": "stream",
          "name": "stdout",
          "text": [
            "['apple', 'Banana', 'orange', 'Apricot', 'apple', '5', 'Winter', '4.0']\n"
          ]
        }
      ]
    },
    {
      "cell_type": "markdown",
      "source": [
        "**Count():**"
      ],
      "metadata": {
        "id": "SPRWwFToAxUZ"
      }
    },
    {
      "cell_type": "code",
      "source": [
        "x = [\"apple\", \"Banana\",4, \"orange\", \"Apricot\",4]\n",
        "print(x.count(4))"
      ],
      "metadata": {
        "colab": {
          "base_uri": "https://localhost:8080/"
        },
        "id": "pti0Sae6A1Ff",
        "outputId": "280e74c2-c951-4023-8436-f753c3890459"
      },
      "execution_count": 40,
      "outputs": [
        {
          "output_type": "stream",
          "name": "stdout",
          "text": [
            "2\n"
          ]
        }
      ]
    },
    {
      "cell_type": "markdown",
      "source": [
        "**Index():**"
      ],
      "metadata": {
        "id": "A0OlWCWYBChB"
      }
    },
    {
      "cell_type": "code",
      "source": [
        "x = [\"apple\", \"Banana\",4, \"orange\", \"Apricot\",4]\n",
        "print(x.index(\"apple\"))\n",
        "print(x.index(4))"
      ],
      "metadata": {
        "colab": {
          "base_uri": "https://localhost:8080/"
        },
        "id": "gKNV7DoIBFSE",
        "outputId": "d73c9b72-8141-4cde-c5c5-49739b180dcc"
      },
      "execution_count": 42,
      "outputs": [
        {
          "output_type": "stream",
          "name": "stdout",
          "text": [
            "0\n",
            "2\n"
          ]
        }
      ]
    },
    {
      "cell_type": "markdown",
      "source": [
        "**reverse():**"
      ],
      "metadata": {
        "id": "UWpVgmrOC9g5"
      }
    },
    {
      "cell_type": "code",
      "source": [
        "x = [\"apple\", \"Banana\",4, \"orange\", \"Apricot\",4]\n",
        "x.reverse()\n",
        "print(x)"
      ],
      "metadata": {
        "colab": {
          "base_uri": "https://localhost:8080/"
        },
        "id": "_v1z0YONCwZe",
        "outputId": "4f5876ee-cfbc-4217-c3ca-17b1492890f5"
      },
      "execution_count": 48,
      "outputs": [
        {
          "output_type": "stream",
          "name": "stdout",
          "text": [
            "[4, 'Apricot', 'orange', 4, 'Banana', 'apple']\n"
          ]
        }
      ]
    },
    {
      "cell_type": "markdown",
      "source": [
        "**Nested List:**"
      ],
      "metadata": {
        "id": "M6yi9eAiBi_e"
      }
    },
    {
      "cell_type": "code",
      "source": [
        "student = [\"Name\" , \"Ali\" , \"Marks\" , [54,89,76,34] , [\"Pass\", \"Fail\"]]\n",
        "print(student[2])\n",
        "print(student[3][1])"
      ],
      "metadata": {
        "colab": {
          "base_uri": "https://localhost:8080/"
        },
        "id": "IzGEeLr6Brb1",
        "outputId": "75399c8e-8b93-44b5-8355-91c40439d9f1"
      },
      "execution_count": 47,
      "outputs": [
        {
          "output_type": "stream",
          "name": "stdout",
          "text": [
            "Marks\n",
            "89\n"
          ]
        }
      ]
    }
  ]
}
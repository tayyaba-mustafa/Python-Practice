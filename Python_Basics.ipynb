{
  "nbformat": 4,
  "nbformat_minor": 0,
  "metadata": {
    "colab": {
      "provenance": [],
      "authorship_tag": "ABX9TyPRqlyeBFMxueoq8FxoATJW",
      "include_colab_link": true
    },
    "kernelspec": {
      "name": "python3",
      "display_name": "Python 3"
    },
    "language_info": {
      "name": "python"
    }
  },
  "cells": [
    {
      "cell_type": "markdown",
      "metadata": {
        "id": "view-in-github",
        "colab_type": "text"
      },
      "source": [
        "<a href=\"https://colab.research.google.com/github/tayyaba-mustafa/Python-Practice/blob/main/Python_Basics.ipynb\" target=\"_parent\"><img src=\"https://colab.research.google.com/assets/colab-badge.svg\" alt=\"Open In Colab\"/></a>"
      ]
    },
    {
      "cell_type": "markdown",
      "source": [
        "**Python Basics:**"
      ],
      "metadata": {
        "id": "d-4FiEXNhd24"
      }
    },
    {
      "cell_type": "code",
      "execution_count": 1,
      "metadata": {
        "id": "LI21tUdDeVYQ",
        "colab": {
          "base_uri": "https://localhost:8080/"
        },
        "outputId": "2dd8a1e2-c533-4b3d-d963-6cac4a378c88"
      },
      "outputs": [
        {
          "output_type": "stream",
          "name": "stdout",
          "text": [
            "Tayyaba\n",
            "15\n",
            "Tayyaba Mustafa\n",
            "The value of a is 10\n"
          ]
        }
      ],
      "source": [
        "# Python Syntax\n",
        "\n",
        "print(\"Tayyaba\")\n",
        "\n",
        "a = 10\n",
        "b = 5\n",
        "print(a+b)\n",
        "\n",
        "x = \"Tayyaba\"\n",
        "y = \"Mustafa\"\n",
        "print(x,y)\n",
        "\n",
        "print(\"The value of a is\",a)\n"
      ]
    },
    {
      "cell_type": "code",
      "source": [
        "# Comments\n",
        "\n",
        "#I'm Tayyaba Mustafa.\n",
        "\n",
        "print(\"Single line comment -> #\")\n",
        "\n",
        "\"\"\"I'm Tayyaba Mustafa from Faisalabad,Pakistan.\n",
        "I am currently pursuing a Bachelor's degree in\n",
        "Computer Science at University of Agriculture,Faisalabad.\"\"\"\n",
        "\n",
        "'''I'm Tayyaba Mustafa from Faisalabad,Pakistan.\n",
        "I am currently pursuing a Bachelor's degree in\n",
        "Computer Science at University of Agriculture,Faisalabad.\n",
        "'''\n",
        "\n",
        "print(\"Multiline comment -> ''' '''\")"
      ],
      "metadata": {
        "colab": {
          "base_uri": "https://localhost:8080/"
        },
        "id": "tc0ficcBfk6H",
        "outputId": "1d5fe33d-7e6e-49f7-c9a4-bcbf4b0604af"
      },
      "execution_count": 2,
      "outputs": [
        {
          "output_type": "stream",
          "name": "stdout",
          "text": [
            "Single line comment -> #\n",
            "Multiline comment -> ''' '''\n"
          ]
        }
      ]
    },
    {
      "cell_type": "code",
      "source": [
        "# Keywords or Reserve words\n",
        "\n",
        "'''\n",
        "Following are some keywords in Python:\n",
        "\n",
        "False, is, in, Lambda, True, None, if, elif, break, else, continue, class, not, and, or\n",
        "'''\n",
        "\n",
        "a = \"a variable\"\n",
        "is = \"Keyword or Reserve word\"\n",
        "print(a)\n",
        "print(is)"
      ],
      "metadata": {
        "colab": {
          "base_uri": "https://localhost:8080/",
          "height": 106
        },
        "id": "O1-jknhlftG-",
        "outputId": "2975ead0-4356-4ec4-d8aa-045f4faef136"
      },
      "execution_count": 3,
      "outputs": [
        {
          "output_type": "error",
          "ename": "SyntaxError",
          "evalue": "invalid syntax (<ipython-input-3-a3d5a5ca1c97>, line 10)",
          "traceback": [
            "\u001b[0;36m  File \u001b[0;32m\"<ipython-input-3-a3d5a5ca1c97>\"\u001b[0;36m, line \u001b[0;32m10\u001b[0m\n\u001b[0;31m    is = \"Keyword or Reserve word\"\u001b[0m\n\u001b[0m    ^\u001b[0m\n\u001b[0;31mSyntaxError\u001b[0m\u001b[0;31m:\u001b[0m invalid syntax\n"
          ]
        }
      ]
    },
    {
      "cell_type": "code",
      "source": [
        "# Python Variables\n",
        "\n",
        "a = 5\n",
        "b = 20.5\n",
        "print(a)\n",
        "print(b)\n",
        "print(a+b)\n",
        "\n",
        "x = \"iCode\"\n",
        "y = \"Guru\"\n",
        "print(x,\"+\",y)"
      ],
      "metadata": {
        "colab": {
          "base_uri": "https://localhost:8080/"
        },
        "id": "mDNCytcTfz4h",
        "outputId": "d8394c7a-e81a-4433-94c1-1f5f19b9fc37"
      },
      "execution_count": 4,
      "outputs": [
        {
          "output_type": "stream",
          "name": "stdout",
          "text": [
            "5\n",
            "20.5\n",
            "25.5\n",
            "iCode + Guru\n"
          ]
        }
      ]
    },
    {
      "cell_type": "code",
      "source": [
        "# Types of variable name cases\n",
        "'''\n",
        "->Camel Case\n",
        "->Snake Case\n",
        "->Pascal Case\n",
        "'''\n",
        "\n",
        "camelCaseThird = '100'\n",
        "snake_case = 5.9\n",
        "PascalCase = \"Python\"\n",
        "\n",
        "print(camelCaseThird)\n",
        "print(snake_case)\n",
        "print(PascalCase)"
      ],
      "metadata": {
        "colab": {
          "base_uri": "https://localhost:8080/"
        },
        "id": "47euBvDwf70c",
        "outputId": "52b8e627-eede-44dd-8f0d-c1308ff141b7"
      },
      "execution_count": 5,
      "outputs": [
        {
          "output_type": "stream",
          "name": "stdout",
          "text": [
            "100\n",
            "5.9\n",
            "Python\n"
          ]
        }
      ]
    },
    {
      "cell_type": "code",
      "source": [
        "#Assigning values to the variable\n",
        "\n",
        "#Multiple values to multiple variables\n",
        "\n",
        "x , y , z = \"Apple\" , 20 , 10.3\n",
        "print(x)\n",
        "print(y)\n",
        "print(z)\n",
        "\n",
        "#One value to multiple variables\n",
        "\n",
        "a = b = c = \"Orange\"\n",
        "print(a)\n",
        "print(b)\n",
        "print(c)"
      ],
      "metadata": {
        "colab": {
          "base_uri": "https://localhost:8080/"
        },
        "id": "8JvC4P0igDYv",
        "outputId": "8e4a9d24-cba2-4ec6-ddfa-bea2fdfb06fd"
      },
      "execution_count": 6,
      "outputs": [
        {
          "output_type": "stream",
          "name": "stdout",
          "text": [
            "Apple\n",
            "20\n",
            "10.3\n",
            "Orange\n",
            "Orange\n",
            "Orange\n"
          ]
        }
      ]
    },
    {
      "cell_type": "code",
      "source": [
        "# Getting Address of a variable\n",
        "\n",
        "x = 10\n",
        "print(x)\n",
        "print(id(x))\n",
        "\n",
        "a = 50\n",
        "b = a\n",
        "print(a)\n",
        "print(b)\n",
        "print(id(a))\n",
        "print(id(b))\n",
        "\n",
        "x = \"Hello\"\n",
        "print(id(x))\n",
        "y = \"Hello1\"\n",
        "print(id(y))"
      ],
      "metadata": {
        "colab": {
          "base_uri": "https://localhost:8080/"
        },
        "id": "bDZDexZAgH39",
        "outputId": "05ae507b-f17f-4675-c608-3381f77e182d"
      },
      "execution_count": 7,
      "outputs": [
        {
          "output_type": "stream",
          "name": "stdout",
          "text": [
            "10\n",
            "135392805618192\n",
            "50\n",
            "50\n",
            "135392805619472\n",
            "135392805619472\n",
            "135392337689008\n",
            "135392337677232\n"
          ]
        }
      ]
    },
    {
      "cell_type": "code",
      "source": [
        "# DataTypes and Type function\n",
        "\n",
        "#Numeric Type:int,float,complex\n",
        "a=3\n",
        "b=7.349\n",
        "c=complex(6,2)\n",
        "print(a)\n",
        "print(b)\n",
        "print(c)\n",
        "print(\"The type of a is\",type(a))\n",
        "print(\"The type of a is\",type(b))\n",
        "print(\"The type of a is\",type(c))\n",
        "\n",
        "#Text Type:str\n",
        "a=\"Hello World!!\"\n",
        "print(a)\n",
        "print(\"The type of a is\",type(a))\n",
        "\n",
        "#Boolean Type:bool\n",
        "n=True\n",
        "print(n)\n",
        "print(\"The type of n is\",type(n))\n",
        "\n",
        "#Sequence Types: list, tuple\n",
        "list1=[8,2.3,[-4,5],[\"Apple\",\"Banana\"]]\n",
        "print(list1)\n",
        "print(\"The type of list1 is\",type(list1))\n",
        "\n",
        "tuple1=((\"parrot\",\"sparrow\"),(\"Lion\",\"Tiger\"))\n",
        "print(tuple1)\n",
        "print(\"The type of tuple1 is\",type(tuple1))\n",
        "\n",
        "#Mapping Type: dict\n",
        "dict1={\"Name\":\"Tayyaba\",\"Age\":21,\"canVote\":True}\n",
        "print(dict1)\n",
        "print(\"The type of dict1 is\",type(dict1))\n",
        "\n",
        "#Set Type: set\n",
        "myset={\"apple\",\"banana\",\"cherry\"}\n",
        "print(myset)\n",
        "print(\"The type of myset is\",type(myset))"
      ],
      "metadata": {
        "colab": {
          "base_uri": "https://localhost:8080/"
        },
        "id": "lN4lFTHTgSZF",
        "outputId": "dd106840-ca35-4e68-9a2b-71a582ee2a93"
      },
      "execution_count": 8,
      "outputs": [
        {
          "output_type": "stream",
          "name": "stdout",
          "text": [
            "3\n",
            "7.349\n",
            "(6+2j)\n",
            "The type of a is <class 'int'>\n",
            "The type of a is <class 'float'>\n",
            "The type of a is <class 'complex'>\n",
            "Hello World!!\n",
            "The type of a is <class 'str'>\n",
            "True\n",
            "The type of n is <class 'bool'>\n",
            "[8, 2.3, [-4, 5], ['Apple', 'Banana']]\n",
            "The type of list1 is <class 'list'>\n",
            "(('parrot', 'sparrow'), ('Lion', 'Tiger'))\n",
            "The type of tuple1 is <class 'tuple'>\n",
            "{'Name': 'Tayyaba', 'Age': 21, 'canVote': True}\n",
            "The type of dict1 is <class 'dict'>\n",
            "{'banana', 'apple', 'cherry'}\n",
            "The type of myset is <class 'set'>\n"
          ]
        }
      ]
    },
    {
      "cell_type": "code",
      "source": [
        "#Typecasting\n",
        "\n",
        "#float -> int\n",
        "a = 10.5\n",
        "print(a)\n",
        "print(type(a))\n",
        "a = int(a)\n",
        "print(a)\n",
        "print(type(a))\n",
        "\n",
        "#int -> float\n",
        "b = 10\n",
        "print(b)\n",
        "print(type(b))\n",
        "b = float(b)\n",
        "print(b)\n",
        "print(type(b))"
      ],
      "metadata": {
        "colab": {
          "base_uri": "https://localhost:8080/"
        },
        "id": "P9rPT3GYgXJI",
        "outputId": "a6569d6e-a73c-4d15-e7be-acc94d4df963"
      },
      "execution_count": 9,
      "outputs": [
        {
          "output_type": "stream",
          "name": "stdout",
          "text": [
            "10.5\n",
            "<class 'float'>\n",
            "10\n",
            "<class 'int'>\n",
            "10\n",
            "<class 'int'>\n",
            "10.0\n",
            "<class 'float'>\n"
          ]
        }
      ]
    },
    {
      "cell_type": "code",
      "source": [
        "#numeric -> String\n",
        "c = 40\n",
        "print(c)\n",
        "print(type(c))\n",
        "c = str(c)\n",
        "print(c)\n",
        "print(type(c))\n",
        "\n",
        "#String -> numeric ---->Only possible if the string consists of numbers\n",
        "d = \"95.7\"\n",
        "print(d)\n",
        "print(type(d))\n",
        "d = float(d)\n",
        "print(d)\n",
        "print(type(d))"
      ],
      "metadata": {
        "colab": {
          "base_uri": "https://localhost:8080/"
        },
        "id": "_t9Qgy2Yghqg",
        "outputId": "092bb483-c0f4-4c78-8353-4a9412252ec9"
      },
      "execution_count": 10,
      "outputs": [
        {
          "output_type": "stream",
          "name": "stdout",
          "text": [
            "40\n",
            "<class 'int'>\n",
            "40\n",
            "<class 'str'>\n",
            "95.7\n",
            "<class 'str'>\n",
            "95.7\n",
            "<class 'float'>\n"
          ]
        }
      ]
    },
    {
      "cell_type": "code",
      "source": [
        "#Boolean to Numeric\n",
        "m = True\n",
        "print(m)\n",
        "print(type(m))\n",
        "m = int(m)\n",
        "print(m)\n",
        "print(type(m))\n",
        "\n",
        "#Boolean to String\n",
        "n = True\n",
        "print(n)\n",
        "print(type(n))\n",
        "n = str(n)\n",
        "print(n)\n",
        "print(type(n))"
      ],
      "metadata": {
        "colab": {
          "base_uri": "https://localhost:8080/"
        },
        "id": "9QOftZrGgm5j",
        "outputId": "aaececfc-28e3-429c-8e74-8ccde104f84d"
      },
      "execution_count": 11,
      "outputs": [
        {
          "output_type": "stream",
          "name": "stdout",
          "text": [
            "True\n",
            "<class 'bool'>\n",
            "1\n",
            "<class 'int'>\n",
            "True\n",
            "<class 'bool'>\n",
            "True\n",
            "<class 'str'>\n"
          ]
        }
      ]
    },
    {
      "cell_type": "code",
      "source": [
        "# Numeric to Boolean\n",
        "x = 0\n",
        "print(x)\n",
        "print(type(x))\n",
        "x = bool(x)\n",
        "print(x)\n",
        "print(type(x))"
      ],
      "metadata": {
        "colab": {
          "base_uri": "https://localhost:8080/"
        },
        "id": "C2Gksyb6gpwg",
        "outputId": "38cdbd93-48bf-4510-f71a-516403794595"
      },
      "execution_count": 12,
      "outputs": [
        {
          "output_type": "stream",
          "name": "stdout",
          "text": [
            "0\n",
            "<class 'int'>\n",
            "False\n",
            "<class 'bool'>\n"
          ]
        }
      ]
    },
    {
      "cell_type": "code",
      "source": [
        "#Input function\n",
        "\n",
        "marks=input(\"Enter your marks:\")\n",
        "print(type(marks))\n",
        "\n",
        "age = int(input(\"Enter your age: \"))\n",
        "print(\"your age is: \", age)\n",
        "print(\"your age after 5 years will be =\",age + 5 )"
      ],
      "metadata": {
        "colab": {
          "base_uri": "https://localhost:8080/"
        },
        "id": "DpXzf4nwgyEV",
        "outputId": "78f232c8-17f5-4b68-c4e2-9745f888b97a"
      },
      "execution_count": 13,
      "outputs": [
        {
          "output_type": "stream",
          "name": "stdout",
          "text": [
            "Enter your marks:55\n",
            "<class 'str'>\n",
            "Enter your age: 21\n",
            "your age is:  21\n",
            "your age after 5 years will be = 26\n"
          ]
        }
      ]
    },
    {
      "cell_type": "code",
      "source": [
        "#Operators\n",
        "\n",
        "#Arithmetic Operators\n",
        "a = 15\n",
        "b = 4\n",
        "\n",
        "#Addition +\n",
        "print(a+b)\n",
        "\n",
        "#Subtraction -\n",
        "print(a-b)\n",
        "\n",
        "#Multiplication *\n",
        "print(a*b)\n",
        "\n",
        "#Division / ---->always gives float\n",
        "print(a/b)\n",
        "\n",
        "#Modulus % --->gives reminder\n",
        "print(a%b)\n",
        "\n",
        "#Exponential **\n",
        "print(a**b)\n",
        "\n",
        "#Floor Division // ----->always gives integer\n",
        "print(a//b)"
      ],
      "metadata": {
        "colab": {
          "base_uri": "https://localhost:8080/"
        },
        "id": "lC5ijHW7g6BC",
        "outputId": "51f2a15a-a9cc-47c3-855b-59c760d5381b"
      },
      "execution_count": 14,
      "outputs": [
        {
          "output_type": "stream",
          "name": "stdout",
          "text": [
            "19\n",
            "11\n",
            "60\n",
            "3.75\n",
            "3\n",
            "50625\n",
            "3\n"
          ]
        }
      ]
    },
    {
      "cell_type": "code",
      "source": [
        "#Operator Precedence\n",
        "'''\n",
        "->paranthesis ()\n",
        "\n",
        "->exponentiation **\n",
        "\n",
        "->multiplication * / division / / f.d// / modulus%\n",
        "\n",
        "->addition, subtraction +,-\n",
        "'''\n",
        "\n",
        "print(12 + 5 * (4 - 2))"
      ],
      "metadata": {
        "colab": {
          "base_uri": "https://localhost:8080/"
        },
        "id": "RFCkUO7Bg9SO",
        "outputId": "821fd241-9e3d-4256-888e-7e3149b3ff6a"
      },
      "execution_count": 15,
      "outputs": [
        {
          "output_type": "stream",
          "name": "stdout",
          "text": [
            "22\n"
          ]
        }
      ]
    },
    {
      "cell_type": "code",
      "source": [
        "#Assignment Operators\n",
        "\n",
        "x = 3\n",
        "\n",
        "x += 2\n",
        "# x -= 2\n",
        "# x *= 2\n",
        "# x /= 2\n",
        "# x %= 2\n",
        "# x //= 2\n",
        "# x **= 2\n",
        "print(x)"
      ],
      "metadata": {
        "colab": {
          "base_uri": "https://localhost:8080/"
        },
        "id": "vsj86_vEhDAn",
        "outputId": "3d8a319f-bb00-4c80-fae5-ccac1892da35"
      },
      "execution_count": 16,
      "outputs": [
        {
          "output_type": "stream",
          "name": "stdout",
          "text": [
            "5\n"
          ]
        }
      ]
    },
    {
      "cell_type": "code",
      "source": [
        "#Comparison Operators\n",
        "'''\n",
        "\">\" is greater than\n",
        "\n",
        "\"<\" is smaller than\n",
        "\n",
        "\">=\" is greater than or equal to\n",
        "\n",
        "\"<=\" is smaller than or equal to\n",
        "\n",
        "\"==\" is equal to\n",
        "\n",
        "\"!=\" is not equal to\n",
        "'''\n",
        "\n",
        "a = 4\n",
        "b = 5\n",
        "print(a>b)\n",
        "print(a<b)\n",
        "print(a>=b)\n",
        "print(a<=b)\n",
        "print(a==b)\n",
        "print(a!=b)"
      ],
      "metadata": {
        "colab": {
          "base_uri": "https://localhost:8080/"
        },
        "id": "dsmJwPunhJdD",
        "outputId": "01dcaccb-b23a-4309-e71a-289eff80ebac"
      },
      "execution_count": 17,
      "outputs": [
        {
          "output_type": "stream",
          "name": "stdout",
          "text": [
            "False\n",
            "True\n",
            "False\n",
            "True\n",
            "False\n",
            "True\n"
          ]
        }
      ]
    },
    {
      "cell_type": "code",
      "source": [
        "# Boolean operators or logical operators\n",
        "'''\n",
        "->and\n",
        "->or\n",
        "->not\n",
        "'''\n",
        "\n",
        "x = 5\n",
        "print(x>5 and x<10)\n",
        "print(x>5 or x<10)\n",
        "print(not x<10)"
      ],
      "metadata": {
        "colab": {
          "base_uri": "https://localhost:8080/"
        },
        "id": "yyaPwqKdhOcD",
        "outputId": "66713f2d-60fe-46bb-c7aa-b12aecaa3be9"
      },
      "execution_count": 18,
      "outputs": [
        {
          "output_type": "stream",
          "name": "stdout",
          "text": [
            "False\n",
            "True\n",
            "False\n"
          ]
        }
      ]
    },
    {
      "cell_type": "code",
      "source": [
        "#Membership Operators\n",
        "'''\n",
        "->in\n",
        "->not in\n",
        "'''\n",
        "\n",
        "x=\"Python Programming Language\"\n",
        "y=[\"Orange\", 5, \"10.3\"]\n",
        "print(\"y\" in x)\n",
        "print(\"Orange\" not in y)"
      ],
      "metadata": {
        "colab": {
          "base_uri": "https://localhost:8080/"
        },
        "id": "HTmvlwpthSG_",
        "outputId": "6fce8948-b7c0-40f5-918b-85cc54736d2e"
      },
      "execution_count": 19,
      "outputs": [
        {
          "output_type": "stream",
          "name": "stdout",
          "text": [
            "True\n",
            "False\n"
          ]
        }
      ]
    },
    {
      "cell_type": "code",
      "source": [
        "#Identity Operator\n",
        "'''\n",
        "->is\n",
        "->is not\n",
        "'''\n",
        "\n",
        "a = 10.1\n",
        "b = 10.1\n",
        "\n",
        "print(a is b)\n",
        "print(id(a))\n",
        "print(id(b))\n",
        "\n",
        "x = 5\n",
        "y = x\n",
        "print(x is y)\n",
        "print(id(x))\n",
        "print(id(y))\n"
      ],
      "metadata": {
        "colab": {
          "base_uri": "https://localhost:8080/"
        },
        "id": "4Xz0AN9zhXCF",
        "outputId": "45bd558c-ea60-4f93-c97a-2384b61ff13f"
      },
      "execution_count": 20,
      "outputs": [
        {
          "output_type": "stream",
          "name": "stdout",
          "text": [
            "False\n",
            "135392375564816\n",
            "135392375562224\n",
            "True\n",
            "135392805618032\n",
            "135392805618032\n"
          ]
        }
      ]
    }
  ]
}
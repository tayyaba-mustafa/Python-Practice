{
  "nbformat": 4,
  "nbformat_minor": 0,
  "metadata": {
    "colab": {
      "provenance": [],
      "authorship_tag": "ABX9TyN9A3ce09o1/NkaQtEz2Nby",
      "include_colab_link": true
    },
    "kernelspec": {
      "name": "python3",
      "display_name": "Python 3"
    },
    "language_info": {
      "name": "python"
    }
  },
  "cells": [
    {
      "cell_type": "markdown",
      "metadata": {
        "id": "view-in-github",
        "colab_type": "text"
      },
      "source": [
        "<a href=\"https://colab.research.google.com/github/tayyaba-mustafa/Python-Practice/blob/main/Python_Basics.ipynb\" target=\"_parent\"><img src=\"https://colab.research.google.com/assets/colab-badge.svg\" alt=\"Open In Colab\"/></a>"
      ]
    },
    {
      "cell_type": "markdown",
      "source": [
        "**PYTHON BASICS**"
      ],
      "metadata": {
        "id": "WkkcZi9M9S5c"
      }
    },
    {
      "cell_type": "markdown",
      "source": [
        "**Python Syntax:**\n",
        "\n",
        "Python syntax is the **set of rules** for writing Python programs.\n"
      ],
      "metadata": {
        "id": "d-4FiEXNhd24"
      }
    },
    {
      "cell_type": "code",
      "execution_count": null,
      "metadata": {
        "id": "LI21tUdDeVYQ",
        "colab": {
          "base_uri": "https://localhost:8080/"
        },
        "outputId": "2dd8a1e2-c533-4b3d-d963-6cac4a378c88"
      },
      "outputs": [
        {
          "output_type": "stream",
          "name": "stdout",
          "text": [
            "Tayyaba\n",
            "15\n",
            "Tayyaba Mustafa\n",
            "The value of a is 10\n"
          ]
        }
      ],
      "source": [
        "print(\"Tayyaba\")\n",
        "\n",
        "a = 10\n",
        "b = 5\n",
        "print(a+b)\n",
        "\n",
        "x = \"Tayyaba\"\n",
        "y = \"Mustafa\"\n",
        "print(x,y)\n",
        "\n",
        "print(\"The value of a is\",a)\n"
      ]
    },
    {
      "cell_type": "markdown",
      "source": [
        "**Comments:**\n",
        "\n",
        "Comments are mainly used to **explain what the code does**.\n",
        "\n",
        "Comments are used to **make the code more readable**.\n",
        "\n",
        "Python completely **skips comments during execution**. They do not affect how the code runs.\n",
        "\n",
        "You can write comments on a **sperate line** or **at the end of a line** of code.\n",
        "\n",
        "There are two types of comments in Python:\n",
        "\n",
        "\n",
        "\n",
        "*   Single line comment  **#**\n",
        "*   Multi-line comment  **''' '''**\n",
        "\n",
        "\n",
        "\n",
        "\n"
      ],
      "metadata": {
        "id": "GHmGcdfw9vuZ"
      }
    },
    {
      "cell_type": "code",
      "source": [
        "print(\"Single line Comment\")\n",
        "\n",
        "# This program calculates the area of a rectangle\n",
        "length = 5  # Length of the rectangle\n",
        "width = 3   # Width of the rectangle\n",
        "area = length * width  # Formula to calculate the area\n",
        "print(area)  # Print the area\n",
        "\n",
        "\n",
        "\"\"\"I'm Tayyaba Mustafa from Faisalabad,Pakistan.\n",
        "I am currently pursuing a Bachelor's degree in\n",
        "Computer Science at University of Agriculture,Faisalabad.\"\"\"\n",
        "\n",
        "'''I'm Tayyaba Mustafa from Faisalabad,Pakistan.\n",
        "I am currently pursuing a Bachelor's degree in\n",
        "Computer Science at University of Agriculture,Faisalabad.'''\n",
        "\n",
        "print(\"Multiline Comment \")\n"
      ],
      "metadata": {
        "colab": {
          "base_uri": "https://localhost:8080/"
        },
        "id": "tc0ficcBfk6H",
        "outputId": "c279a904-06cb-4f3c-aae3-f3a7da8834fd"
      },
      "execution_count": null,
      "outputs": [
        {
          "output_type": "stream",
          "name": "stdout",
          "text": [
            "Single line Comment\n",
            "15\n",
            "Multiline Comment \n"
          ]
        }
      ]
    },
    {
      "cell_type": "markdown",
      "source": [
        "**Keywords or Reserve words:**\n",
        "\n",
        "Keywords or reserved words are **special words** in a programming language that have a **fixed meaning** and **purpose**.\n",
        "\n",
        "These words are **predefined** by the language and **cannot be used for other purposes**, such as naming your variables, functions, or classes.\n",
        "\n",
        "Following are some keywords in Python:\n",
        "\n",
        "**False, is, in, Lambda, True, None, if, elif, break, else, continue, class, not, and, or**"
      ],
      "metadata": {
        "id": "nPaNbBmdC8jp"
      }
    },
    {
      "cell_type": "code",
      "source": [
        "a = \"a variable\"\n",
        "is = \"Keyword or Reserve word\"\n",
        "print(a)\n",
        "print(is)"
      ],
      "metadata": {
        "colab": {
          "base_uri": "https://localhost:8080/",
          "height": 106
        },
        "id": "O1-jknhlftG-",
        "outputId": "ca356879-6bae-487d-af9c-3e387ec8e6dc"
      },
      "execution_count": null,
      "outputs": [
        {
          "output_type": "error",
          "ename": "SyntaxError",
          "evalue": "invalid syntax (<ipython-input-8-75183d47b146>, line 3)",
          "traceback": [
            "\u001b[0;36m  File \u001b[0;32m\"<ipython-input-8-75183d47b146>\"\u001b[0;36m, line \u001b[0;32m3\u001b[0m\n\u001b[0;31m    is = \"Keyword or Reserve word\"\u001b[0m\n\u001b[0m    ^\u001b[0m\n\u001b[0;31mSyntaxError\u001b[0m\u001b[0;31m:\u001b[0m invalid syntax\n"
          ]
        }
      ]
    },
    {
      "cell_type": "markdown",
      "source": [
        "**Python Variables:**\n",
        "\n",
        "Variables are **containers** for **storing data values**.\n",
        "\n",
        "A variable is created the moment you first assign a value to it.\n",
        "\n",
        "There is no need to write the data type of a variable before it.\n",
        "\n",
        "**Store Data:** A variable holds a value (e.g., a number, a word, or even a list of things).\n",
        "\n",
        "**Easy to Use:** You just give the variable a name and assign it a value using the = sign.\n",
        "\n",
        "**Value Can Change:** You can update the value in a variable whenever you want."
      ],
      "metadata": {
        "id": "UzHdugGzFL9f"
      }
    },
    {
      "cell_type": "code",
      "source": [
        "x = 10           # A variable named 'x' stores the number 10\n",
        "name = \"Alice\"   # A variable named 'name' stores the word \"Alice\"\n",
        "fruits = [\"apple\", \"banana\", \"cherry\"]  # A variable named 'fruits' stores a list\n",
        "\n",
        "print(x)\n",
        "print(name)\n",
        "print(fruits)\n",
        "\n",
        "x = \"iCode\"\n",
        "y = \"Guru\"\n",
        "print(x,y)"
      ],
      "metadata": {
        "colab": {
          "base_uri": "https://localhost:8080/"
        },
        "id": "mDNCytcTfz4h",
        "outputId": "1431c4dd-d4f4-44d7-d6f2-31b5b3cb67d7"
      },
      "execution_count": null,
      "outputs": [
        {
          "output_type": "stream",
          "name": "stdout",
          "text": [
            "10\n",
            "Alice\n",
            "['apple', 'banana', 'cherry']\n",
            "iCode Guru\n"
          ]
        }
      ]
    },
    {
      "cell_type": "markdown",
      "source": [
        "**Rules for assigning name to variable:**\n",
        "\n",
        "A variable name must start with a **letter** or the **underscore** character.\n",
        "\n",
        "There must be **no white space** in a variable name.\n",
        "\n",
        "A variable name **cannot start with a number**.\n",
        "\n",
        "A variable name can only contain **alpha-numeric characters** and **underscores** (A-z, 0-9, and _ ).\n",
        "\n",
        "**No special characters** are allowed i.e. @codebettle , Python$ are the invalid variables.\n",
        "\n",
        "Variable names are **case-sensitive** (age, Age and AGE are three different variables)."
      ],
      "metadata": {
        "id": "sra4r3l5KDgt"
      }
    },
    {
      "cell_type": "code",
      "source": [
        "name = \"Alice\"   # Starts with a letter\n",
        "_age = 25        # Starts with an underscore\n",
        "\n",
        "userName = \"Emma\"    # No space\n",
        "user_name = \"Emma\"   # Underscore can replace spaces\n",
        "\n",
        "user name = \"Emma\"   # Spaces are not allowed\n",
        "\n",
        "1name = \"John\"   # Starts with a number (Not Allowed)\n",
        "\n",
        "my_var = 100     # Uses letters and an underscore\n",
        "var123 = 50      # Uses letters and numbers\n",
        "\n",
        "my-var = 100     # Special character `-` is not allowed\n",
        "my@var = 50      # Special character `@` is not allowed\n",
        "\n",
        "age = 20          # Variable name is `age`\n",
        "Age = 25          # Different variable, name is `Age`\n",
        "AGE = 30          # Another different variable, name is `AGE`\n"
      ],
      "metadata": {
        "id": "pSA8m7s_LCRq",
        "outputId": "b8e40d3c-e922-440f-a8f3-5f8532ffe497",
        "colab": {
          "base_uri": "https://localhost:8080/",
          "height": 106
        }
      },
      "execution_count": null,
      "outputs": [
        {
          "output_type": "error",
          "ename": "SyntaxError",
          "evalue": "invalid decimal literal (<ipython-input-12-b8cd70b33cb2>, line 9)",
          "traceback": [
            "\u001b[0;36m  File \u001b[0;32m\"<ipython-input-12-b8cd70b33cb2>\"\u001b[0;36m, line \u001b[0;32m9\u001b[0m\n\u001b[0;31m    1name = \"John\"   # Starts with a number (Not Allowed)\u001b[0m\n\u001b[0m    ^\u001b[0m\n\u001b[0;31mSyntaxError\u001b[0m\u001b[0;31m:\u001b[0m invalid decimal literal\n"
          ]
        }
      ]
    },
    {
      "cell_type": "markdown",
      "source": [
        "**Types of variable name cases:**\n",
        "\n",
        "\n",
        "\n",
        "*   Camel Case\n",
        "\n",
        "*   Snake Case\n",
        "\n",
        "*   Pascal Case\n",
        "\n",
        "**Camel Case:**\n",
        "\n",
        "In Camel Case, the **first word** is in **lowercase**, and every **subsequent word** starts with an **uppercase** letter.\n",
        "\n",
        "**Snake Case:**\n",
        "\n",
        "In Snake Case, **all words** are written in **lowercase** and separated by **underscores** (_).\n",
        "\n",
        "**Pascal Case:**\n",
        "\n",
        "In Pascal Case, **every word** starts with an **uppercase letter**, including the first word."
      ],
      "metadata": {
        "id": "Wh4VGhGfMvhj"
      }
    },
    {
      "cell_type": "code",
      "source": [
        "#Camel Case\n",
        "myVariableName = \"Camel Case\"\n",
        "userAge = 25\n",
        "totalPrice = 100.5\n",
        "\n",
        "#Snake Case\n",
        "my_variable_name = \"Snake Case\"\n",
        "user_age = 25\n",
        "total_price = 100.5\n",
        "\n",
        "#Pascal Case\n",
        "MyVariableName = \"Pascal Case\"\n",
        "UserAge = 25\n",
        "TotalPrice = 100.5\n",
        "\n",
        "print(myVariableName)\n",
        "print(my_variable_name)\n",
        "print(MyVariableName)\n",
        "\n"
      ],
      "metadata": {
        "colab": {
          "base_uri": "https://localhost:8080/"
        },
        "id": "47euBvDwf70c",
        "outputId": "97e6f7fc-0bd0-42ea-f0e0-deacc9930168"
      },
      "execution_count": null,
      "outputs": [
        {
          "output_type": "stream",
          "name": "stdout",
          "text": [
            "Camel Case\n",
            "Snake Case\n",
            "Pascal Case\n"
          ]
        }
      ]
    },
    {
      "cell_type": "markdown",
      "source": [
        "**Assigning values to the variable:**\n",
        "\n",
        "\n",
        "\n",
        "*   Assigning multiple values to multiple variables\n",
        "*   Assigning one value to multiple variables\n"
      ],
      "metadata": {
        "id": "U8aflyOmRVYM"
      }
    },
    {
      "cell_type": "markdown",
      "source": [
        "**Multiple Values to Multiple Variables**\n",
        "\n",
        "Python allows you to assign values to multiple variables in one line."
      ],
      "metadata": {
        "id": "OZ3rQVr1RoY3"
      }
    },
    {
      "cell_type": "code",
      "source": [
        "#Multiple values to multiple variables\n",
        "\n",
        "x , y , z = \"Apple\" , 20 , 10.3\n",
        "print(x)\n",
        "print(y)\n",
        "print(z)\n"
      ],
      "metadata": {
        "colab": {
          "base_uri": "https://localhost:8080/"
        },
        "id": "8JvC4P0igDYv",
        "outputId": "7b625e48-8cdf-4783-c6df-865e932e5e99"
      },
      "execution_count": null,
      "outputs": [
        {
          "output_type": "stream",
          "name": "stdout",
          "text": [
            "Apple\n",
            "20\n",
            "10.3\n"
          ]
        }
      ]
    },
    {
      "cell_type": "markdown",
      "source": [
        "**One Value to Multiple Variables**\n",
        "\n",
        "You can also assign the same value to multiple variables in one line."
      ],
      "metadata": {
        "id": "2RDAt0BLSTvi"
      }
    },
    {
      "cell_type": "code",
      "source": [
        "#One value to multiple variables\n",
        "\n",
        "a = b = c = \"Orange\"\n",
        "print(a)\n",
        "print(b)\n",
        "print(c)"
      ],
      "metadata": {
        "id": "avI1MrMWScr9",
        "outputId": "950d3106-7bd3-4d82-817c-ebc5c11449b1",
        "colab": {
          "base_uri": "https://localhost:8080/"
        }
      },
      "execution_count": null,
      "outputs": [
        {
          "output_type": "stream",
          "name": "stdout",
          "text": [
            "Orange\n",
            "Orange\n",
            "Orange\n"
          ]
        }
      ]
    },
    {
      "cell_type": "code",
      "source": [
        "a = b = c = 5,6\n",
        "print(a)\n",
        "print(b)\n",
        "print(c)\n",
        "\n",
        "A,B = C = 5,6\n",
        "print(A)\n",
        "print(B)\n",
        "print(C)"
      ],
      "metadata": {
        "id": "fbmnxYor56RQ",
        "outputId": "07520a37-25d7-49d1-c6f7-c737ee1aaaaa",
        "colab": {
          "base_uri": "https://localhost:8080/"
        }
      },
      "execution_count": 1,
      "outputs": [
        {
          "output_type": "stream",
          "name": "stdout",
          "text": [
            "(5, 6)\n",
            "(5, 6)\n",
            "(5, 6)\n",
            "5\n",
            "6\n",
            "(5, 6)\n"
          ]
        }
      ]
    },
    {
      "cell_type": "markdown",
      "source": [
        "**Getting Address of a Variable:**\n",
        "\n",
        "Use **id function** for it.\n",
        "\n",
        "The **id() function** returns a **unique id** for the specified object.\n",
        "\n",
        "All objects in Python has its own unique id.\n",
        "\n",
        "The id is assigned to the object when it is created.\n",
        "\n",
        "The id is the **object's memory address**, and will be different for each time you run the program."
      ],
      "metadata": {
        "id": "GFgifob8S5UM"
      }
    },
    {
      "cell_type": "code",
      "source": [
        "x = 10\n",
        "print(x)\n",
        "print(id(x))\n",
        "\n",
        "a = 50\n",
        "b = a\n",
        "print(a)\n",
        "print(b)\n",
        "print(id(a))\n",
        "print(id(b))\n",
        "\n",
        "z = \"Hello\"\n",
        "print(id(z))"
      ],
      "metadata": {
        "colab": {
          "base_uri": "https://localhost:8080/"
        },
        "id": "bDZDexZAgH39",
        "outputId": "4fc40898-9cda-4a74-eaf0-0a21c6498f40"
      },
      "execution_count": null,
      "outputs": [
        {
          "output_type": "stream",
          "name": "stdout",
          "text": [
            "10\n",
            "10751144\n",
            "50\n",
            "50\n",
            "10752424\n",
            "10752424\n",
            "137434793320880\n"
          ]
        }
      ]
    },
    {
      "cell_type": "markdown",
      "source": [
        "**DataTypes:**\n",
        "\n",
        "Data types in Python tell us **what kind of data** a variable is storing.\n",
        "\n",
        "Following are some built-in data types in Python:\n",
        "\n",
        "\n",
        "\n",
        "*   **Text Type:** str\n",
        "\n",
        "*   **Numeric Types:** int, float, complex\n",
        "\n",
        "*   **Boolean Type:** bool\n",
        "*   **Sequence Types:** list, tuple\n",
        "\n",
        "\n",
        "*   **Mapping Type:** dict\n",
        "\n",
        "\n",
        "*   **Set Type:** set\n",
        "\n",
        "\n",
        "**Type Function:**\n",
        "\n",
        "The **type() function** is used to find out the **data type of a variable**. It tells you whether the variable is a number, string, list, etc."
      ],
      "metadata": {
        "id": "1FcCqoJzT2EM"
      }
    },
    {
      "cell_type": "code",
      "source": [
        "#Text Type:str\n",
        "a=\"Hello World!\"\n",
        "print(a)\n",
        "print(\"The type of a is\",type(a))"
      ],
      "metadata": {
        "id": "2-MSY64-XVSF",
        "outputId": "936503d6-0830-4f0a-cb5b-240b26d9e195",
        "colab": {
          "base_uri": "https://localhost:8080/"
        }
      },
      "execution_count": null,
      "outputs": [
        {
          "output_type": "stream",
          "name": "stdout",
          "text": [
            "Hello World!\n",
            "The type of a is <class 'str'>\n"
          ]
        }
      ]
    },
    {
      "cell_type": "code",
      "source": [
        "#Numeric Type:int,float,complex\n",
        "a=3\n",
        "b=7.349\n",
        "c=complex(6,2)\n",
        "print(a)\n",
        "print(b)\n",
        "print(c)\n",
        "print(\"The type of a is\",type(a))\n",
        "print(\"The type of a is\",type(b))\n",
        "print(\"The type of a is\",type(c))\n"
      ],
      "metadata": {
        "colab": {
          "base_uri": "https://localhost:8080/"
        },
        "id": "lN4lFTHTgSZF",
        "outputId": "c1678416-584f-4357-bc59-7a479f39a47c"
      },
      "execution_count": null,
      "outputs": [
        {
          "output_type": "stream",
          "name": "stdout",
          "text": [
            "3\n",
            "7.349\n",
            "(6+2j)\n",
            "The type of a is <class 'int'>\n",
            "The type of a is <class 'float'>\n",
            "The type of a is <class 'complex'>\n"
          ]
        }
      ]
    },
    {
      "cell_type": "code",
      "source": [
        "#Boolean Type:bool\n",
        "n=True\n",
        "print(n)\n",
        "print(\"The type of n is\",type(n))"
      ],
      "metadata": {
        "id": "UxZjFa0dXkXz",
        "outputId": "eb8ef2cd-ad51-4472-98fd-aebd3d28ff2e",
        "colab": {
          "base_uri": "https://localhost:8080/"
        }
      },
      "execution_count": null,
      "outputs": [
        {
          "output_type": "stream",
          "name": "stdout",
          "text": [
            "True\n",
            "The type of n is <class 'bool'>\n"
          ]
        }
      ]
    },
    {
      "cell_type": "code",
      "source": [
        "#Sequence Types: list, tuple\n",
        "list1=[8,2.3,[-4,5],[\"Apple\",\"Banana\"]]\n",
        "print(list1)\n",
        "print(\"The type of list1 is\",type(list1))\n",
        "\n",
        "tuple1=(\"abc\",34,True,[\"Ali\",2.3],(\"Lion\",\"Tiger\"))\n",
        "print(tuple1)\n",
        "print(\"The type of tuple1 is\",type(tuple1))"
      ],
      "metadata": {
        "id": "fYlK7MqpXwY3",
        "outputId": "ca145184-c0d5-4c23-f295-c0af47834880",
        "colab": {
          "base_uri": "https://localhost:8080/"
        }
      },
      "execution_count": null,
      "outputs": [
        {
          "output_type": "stream",
          "name": "stdout",
          "text": [
            "[8, 2.3, [-4, 5], ['Apple', 'Banana']]\n",
            "The type of list1 is <class 'list'>\n",
            "('abc', 34, True, ['Ali', 2.3], ('Lion', 'Tiger'))\n",
            "The type of tuple1 is <class 'tuple'>\n"
          ]
        }
      ]
    },
    {
      "cell_type": "code",
      "source": [
        "#Mapping Type: dict\n",
        "dict1={\"Name\":\"Tayyaba\",\"Age\":21,\"canVote\":True}\n",
        "print(dict1)\n",
        "print(\"The type of dict1 is\",type(dict1))"
      ],
      "metadata": {
        "id": "Ru1nurygX5xs",
        "outputId": "bbac81c9-51c5-4a0b-e3c4-454f0eda12a8",
        "colab": {
          "base_uri": "https://localhost:8080/"
        }
      },
      "execution_count": null,
      "outputs": [
        {
          "output_type": "stream",
          "name": "stdout",
          "text": [
            "{'Name': 'Tayyaba', 'Age': 21, 'canVote': True}\n",
            "The type of dict1 is <class 'dict'>\n"
          ]
        }
      ]
    },
    {
      "cell_type": "code",
      "source": [
        "#Set Type: set\n",
        "myset={\"apple\",\"banana\",\"cherry\"}\n",
        "print(myset)\n",
        "print(\"The type of myset is\",type(myset))"
      ],
      "metadata": {
        "id": "xLvlKARlYCqz",
        "outputId": "453eb1a1-819e-4b1f-a5ee-d197f7b68808",
        "colab": {
          "base_uri": "https://localhost:8080/"
        }
      },
      "execution_count": null,
      "outputs": [
        {
          "output_type": "stream",
          "name": "stdout",
          "text": [
            "{'cherry', 'apple', 'banana'}\n",
            "The type of myset is <class 'set'>\n"
          ]
        }
      ]
    },
    {
      "cell_type": "markdown",
      "source": [
        "**Typecasting in Python:**\n",
        "\n",
        "Typecasting in Python means **changing the type of data** from one type to another.\n",
        "\n",
        "**Types of Typecasting:**\n",
        "\n",
        "There are two types of typecasting:\n",
        "\n",
        "\n",
        "\n",
        "*   Implicit Typecasting (Done by Python Automatically)\n",
        "*   Explicit Typecasting (You Do It Yourself)\n",
        "\n",
        "**Implicit Typecasting:**\n",
        "\n",
        "Python automatically converts one data type to another when it's safe.\n",
        "\n",
        "**Explicit Typecasting:**\n",
        "\n",
        "You tell Python to change the data type using specific functions.\n",
        "\n"
      ],
      "metadata": {
        "id": "VXz5FANqYS7F"
      }
    },
    {
      "cell_type": "code",
      "source": [
        "#Implicit Typecasting\n",
        "x = 5   # int\n",
        "y = 2.5 # float\n",
        "result = x + y   # Python converts `x`(int) to float automatically\n",
        "print(result)\n",
        "print(type(result))\n"
      ],
      "metadata": {
        "id": "F1Gv5Ac4aW2M",
        "outputId": "7fb2d7ae-656a-46a7-8d1f-8d52f2d67add",
        "colab": {
          "base_uri": "https://localhost:8080/"
        }
      },
      "execution_count": null,
      "outputs": [
        {
          "output_type": "stream",
          "name": "stdout",
          "text": [
            "7.5\n",
            "<class 'float'>\n"
          ]
        }
      ]
    },
    {
      "cell_type": "code",
      "source": [
        "#Explicit Typecasting\n",
        "\n",
        "#float -> int\n",
        "a = 10.5\n",
        "print(a)\n",
        "print(type(a))\n",
        "a = int(a)\n",
        "print(a)\n",
        "print(type(a))\n",
        "\n",
        "#int -> float\n",
        "b = 10\n",
        "print(b)\n",
        "print(type(b))\n",
        "b = float(b)\n",
        "print(b)\n",
        "print(type(b))"
      ],
      "metadata": {
        "colab": {
          "base_uri": "https://localhost:8080/"
        },
        "id": "P9rPT3GYgXJI",
        "outputId": "a6569d6e-a73c-4d15-e7be-acc94d4df963"
      },
      "execution_count": null,
      "outputs": [
        {
          "output_type": "stream",
          "name": "stdout",
          "text": [
            "10.5\n",
            "<class 'float'>\n",
            "10\n",
            "<class 'int'>\n",
            "10\n",
            "<class 'int'>\n",
            "10.0\n",
            "<class 'float'>\n"
          ]
        }
      ]
    },
    {
      "cell_type": "code",
      "source": [
        "#numeric -> String\n",
        "c = 40\n",
        "print(c)\n",
        "print(type(c))\n",
        "c = str(c)\n",
        "print(c)\n",
        "print(type(c))\n",
        "\n",
        "#String -> numeric ---->Only possible if the string consists of numbers\n",
        "d = \"95.7\"\n",
        "print(d)\n",
        "print(type(d))\n",
        "d = float(d)\n",
        "print(d)\n",
        "print(type(d))"
      ],
      "metadata": {
        "colab": {
          "base_uri": "https://localhost:8080/"
        },
        "id": "_t9Qgy2Yghqg",
        "outputId": "092bb483-c0f4-4c78-8353-4a9412252ec9"
      },
      "execution_count": null,
      "outputs": [
        {
          "output_type": "stream",
          "name": "stdout",
          "text": [
            "40\n",
            "<class 'int'>\n",
            "40\n",
            "<class 'str'>\n",
            "95.7\n",
            "<class 'str'>\n",
            "95.7\n",
            "<class 'float'>\n"
          ]
        }
      ]
    },
    {
      "cell_type": "code",
      "source": [
        "#Boolean to Numeric\n",
        "m = True\n",
        "print(m)\n",
        "print(type(m))\n",
        "m = int(m)\n",
        "print(m)\n",
        "print(type(m))\n",
        "\n",
        "#Boolean to String\n",
        "n = True\n",
        "print(n)\n",
        "print(type(n))\n",
        "n = str(n)\n",
        "print(n)\n",
        "print(type(n))"
      ],
      "metadata": {
        "colab": {
          "base_uri": "https://localhost:8080/"
        },
        "id": "9QOftZrGgm5j",
        "outputId": "aaececfc-28e3-429c-8e74-8ccde104f84d"
      },
      "execution_count": null,
      "outputs": [
        {
          "output_type": "stream",
          "name": "stdout",
          "text": [
            "True\n",
            "<class 'bool'>\n",
            "1\n",
            "<class 'int'>\n",
            "True\n",
            "<class 'bool'>\n",
            "True\n",
            "<class 'str'>\n"
          ]
        }
      ]
    },
    {
      "cell_type": "code",
      "source": [
        "# Numeric to Boolean\n",
        "x = 0\n",
        "print(x)\n",
        "print(type(x))\n",
        "x = bool(x)\n",
        "print(x)\n",
        "print(type(x))"
      ],
      "metadata": {
        "colab": {
          "base_uri": "https://localhost:8080/"
        },
        "id": "C2Gksyb6gpwg",
        "outputId": "38cdbd93-48bf-4510-f71a-516403794595"
      },
      "execution_count": null,
      "outputs": [
        {
          "output_type": "stream",
          "name": "stdout",
          "text": [
            "0\n",
            "<class 'int'>\n",
            "False\n",
            "<class 'bool'>\n"
          ]
        }
      ]
    },
    {
      "cell_type": "markdown",
      "source": [
        "**Input function:**\n",
        "\n",
        "The input() function in Python is used to **take input** from the **user** while your program is running.\n",
        "\n",
        "It allows the user to type something into the program, and you can use that input for further calculations or actions."
      ],
      "metadata": {
        "id": "ZURpXf5yayzo"
      }
    },
    {
      "cell_type": "code",
      "source": [
        "#Input function\n",
        "\n",
        "marks=input(\"Enter your marks:\")\n",
        "print(type(marks))\n",
        "\n",
        "age = int(input(\"Enter your age: \"))\n",
        "print(\"your age is: \", age)\n",
        "print(\"your age after five years will be: \", age+5)"
      ],
      "metadata": {
        "colab": {
          "base_uri": "https://localhost:8080/"
        },
        "id": "DpXzf4nwgyEV",
        "outputId": "4c7146f2-dc83-4d31-fd86-a586fab46665"
      },
      "execution_count": null,
      "outputs": [
        {
          "output_type": "stream",
          "name": "stdout",
          "text": [
            "Enter your marks:70\n",
            "<class 'str'>\n",
            "Enter your age: 20\n",
            "your age is:  20\n",
            "your age after five years will be:  25\n"
          ]
        }
      ]
    },
    {
      "cell_type": "markdown",
      "source": [
        "**Operators:**\n",
        "\n",
        "Operators are used to **perform operations** on variables and values.\n",
        "\n",
        "Python divides the operators in the following groups:\n",
        "\n",
        "\n",
        "\n",
        "*   Arithmetic operators\n",
        "\n",
        "*   Assignment operators\n",
        "\n",
        "*   Comparison operators\n",
        "\n",
        "*   Logical operators\n",
        "\n",
        "*   Membership operators\n",
        "\n"
      ],
      "metadata": {
        "id": "eqvey4_ybou9"
      }
    },
    {
      "cell_type": "markdown",
      "source": [
        "**Arithmetic Operators:**\n",
        "\n",
        "Arithmetic operators in Python are used to perform **mathematical calculations** like:\n",
        "\n",
        "*   Addition +\n",
        "*   Subtraction -\n",
        "*   Multiplicatin *\n",
        "*   Division /\n",
        "*   Modulus %\n",
        "*   Exponential **\n",
        "*   Floor Division //\n",
        "\n",
        "\n"
      ],
      "metadata": {
        "id": "mOrHMyIOcZFV"
      }
    },
    {
      "cell_type": "code",
      "source": [
        "#Arithmetic Operators\n",
        "a = 15\n",
        "b = 4\n",
        "\n",
        "#Addition +\n",
        "print(a+b)\n",
        "\n",
        "#Subtraction -\n",
        "print(a-b)\n",
        "\n",
        "#Multiplication *\n",
        "print(a*b)\n",
        "\n",
        "#Division / ---->always gives float\n",
        "print(a/b)\n",
        "\n",
        "#Modulus % --->gives reminder\n",
        "print(a%b)\n",
        "\n",
        "#Exponential **\n",
        "print(a**b)\n",
        "\n",
        "#Floor Division // ----->always gives integer\n",
        "print(a//b)"
      ],
      "metadata": {
        "colab": {
          "base_uri": "https://localhost:8080/"
        },
        "id": "lC5ijHW7g6BC",
        "outputId": "51f2a15a-a9cc-47c3-855b-59c760d5381b"
      },
      "execution_count": null,
      "outputs": [
        {
          "output_type": "stream",
          "name": "stdout",
          "text": [
            "19\n",
            "11\n",
            "60\n",
            "3.75\n",
            "3\n",
            "50625\n",
            "3\n"
          ]
        }
      ]
    },
    {
      "cell_type": "markdown",
      "source": [
        "**Assignment Operators:**\n",
        "\n",
        "Assignment operators are used to **assign values** to variables."
      ],
      "metadata": {
        "id": "ubQIGKEQeX6X"
      }
    },
    {
      "cell_type": "code",
      "source": [
        "#Assignment Operators\n",
        "\n",
        "x = 3\n",
        "\n",
        "x += 2\n",
        "# x -= 2\n",
        "# x *= 2\n",
        "# x /= 2\n",
        "# x %= 2\n",
        "# x //= 2\n",
        "# x **= 2\n",
        "print(x)"
      ],
      "metadata": {
        "colab": {
          "base_uri": "https://localhost:8080/"
        },
        "id": "vsj86_vEhDAn",
        "outputId": "3d8a319f-bb00-4c80-fae5-ccac1892da35"
      },
      "execution_count": null,
      "outputs": [
        {
          "output_type": "stream",
          "name": "stdout",
          "text": [
            "5\n"
          ]
        }
      ]
    },
    {
      "cell_type": "markdown",
      "source": [
        "**Comparison Operators:**\n",
        "\n",
        "These are used to **compare two variables** with each other."
      ],
      "metadata": {
        "id": "KVjyh0upfHT1"
      }
    },
    {
      "cell_type": "code",
      "source": [
        "#Comparison Operators\n",
        "'''\n",
        "\">\" is greater than\n",
        "\n",
        "\"<\" is smaller than\n",
        "\n",
        "\">=\" is greater than or equal to\n",
        "\n",
        "\"<=\" is smaller than or equal to\n",
        "\n",
        "\"==\" is equal to\n",
        "\n",
        "\"!=\" is not equal to\n",
        "'''\n",
        "\n",
        "a = 4\n",
        "b = 5\n",
        "print(a>b)\n",
        "print(a<b)\n",
        "print(a>=b)\n",
        "print(a<=b)\n",
        "print(a==b)\n",
        "print(a!=b)"
      ],
      "metadata": {
        "colab": {
          "base_uri": "https://localhost:8080/"
        },
        "id": "dsmJwPunhJdD",
        "outputId": "01dcaccb-b23a-4309-e71a-289eff80ebac"
      },
      "execution_count": null,
      "outputs": [
        {
          "output_type": "stream",
          "name": "stdout",
          "text": [
            "False\n",
            "True\n",
            "False\n",
            "True\n",
            "False\n",
            "True\n"
          ]
        }
      ]
    },
    {
      "cell_type": "markdown",
      "source": [
        "**Logical operators:**\n",
        "\n",
        "Python has **three Boolean operators**, or logical operators: and , or , and not.\n",
        "\n",
        "Logical operators are used to combine conditional statements.\n",
        "\n",
        "**and** Returns \"**True**\" if **both statements are true**\n",
        "\n",
        "**or** Returns \"**True**\" if **one of the statements is true**\n",
        "\n",
        "**not** Reverse the result, returns \"False\" if the result is true"
      ],
      "metadata": {
        "id": "_oNCDRAjfdC3"
      }
    },
    {
      "cell_type": "code",
      "source": [
        "# Boolean operators or logical operators\n",
        "'''\n",
        "->and\n",
        "->or\n",
        "->not\n",
        "'''\n",
        "\n",
        "x = 5\n",
        "print(x>5 and x<10)\n",
        "print(x>5 or x<10)\n",
        "print(not x<10)"
      ],
      "metadata": {
        "colab": {
          "base_uri": "https://localhost:8080/"
        },
        "id": "yyaPwqKdhOcD",
        "outputId": "66713f2d-60fe-46bb-c7aa-b12aecaa3be9"
      },
      "execution_count": null,
      "outputs": [
        {
          "output_type": "stream",
          "name": "stdout",
          "text": [
            "False\n",
            "True\n",
            "False\n"
          ]
        }
      ]
    },
    {
      "cell_type": "markdown",
      "source": [
        "**Membership Operators:**\n",
        "\n",
        "Membership operators are used to test **if a sequence with the specified value is present in an object.**\n",
        "\n",
        "**in** Returns \"True\" if a sequence with the specified value is present in the object.\n",
        "\n",
        "**not in** Returns \"True\" if a sequence with the specified value is not present in the object."
      ],
      "metadata": {
        "id": "9mXCd8WSgKcA"
      }
    },
    {
      "cell_type": "code",
      "source": [
        "#Membership Operators\n",
        "'''\n",
        "->in\n",
        "->not in\n",
        "'''\n",
        "\n",
        "x=\"Python Programming Language\"\n",
        "y=[\"Orange\", 5, \"10.3\"]\n",
        "print(\"y\" in x)\n",
        "print(\"Orange\" not in y)"
      ],
      "metadata": {
        "colab": {
          "base_uri": "https://localhost:8080/"
        },
        "id": "HTmvlwpthSG_",
        "outputId": "6fce8948-b7c0-40f5-918b-85cc54736d2e"
      },
      "execution_count": null,
      "outputs": [
        {
          "output_type": "stream",
          "name": "stdout",
          "text": [
            "True\n",
            "False\n"
          ]
        }
      ]
    },
    {
      "cell_type": "markdown",
      "source": [
        "**Identity Operator:**\n",
        "\n",
        "An identity operator in Python is used to **compare objects** to see if they are the **same** (in terms of **memory location**) or **different**.\n",
        "\n",
        "It checks if two variables point to the same object in memory.\n",
        "\n",
        "**is** Returns True if both variables are the same object.\n",
        "\n",
        "**is not** Returns True if both variables are not the same object."
      ],
      "metadata": {
        "id": "UR6EAiLPg3np"
      }
    },
    {
      "cell_type": "code",
      "source": [
        "#Identity Operator\n",
        "'''\n",
        "->is\n",
        "->is not\n",
        "'''\n",
        "\n",
        "a = 10.1\n",
        "b = 10.1\n",
        "\n",
        "print(a is b)\n",
        "print(id(a))\n",
        "print(id(b))\n",
        "\n",
        "x = 5\n",
        "y = x\n",
        "print(x is y)\n",
        "print(id(x))\n",
        "print(id(y))\n"
      ],
      "metadata": {
        "colab": {
          "base_uri": "https://localhost:8080/"
        },
        "id": "4Xz0AN9zhXCF",
        "outputId": "45bd558c-ea60-4f93-c97a-2384b61ff13f"
      },
      "execution_count": null,
      "outputs": [
        {
          "output_type": "stream",
          "name": "stdout",
          "text": [
            "False\n",
            "135392375564816\n",
            "135392375562224\n",
            "True\n",
            "135392805618032\n",
            "135392805618032\n"
          ]
        }
      ]
    },
    {
      "cell_type": "markdown",
      "source": [
        "**Operator Precedence:**\n",
        "\n",
        "Operator precedence refers to the **order in which operators are evaluated** in an expression.\n",
        "\n",
        "When you have multiple operators in one expression, Python follows a **set of rules** to decide which operator to apply first.\n",
        "\n",
        "The operators with **higher precedence are evaluated before** those with lower precedence."
      ],
      "metadata": {
        "id": "s9jjsRc0dQAa"
      }
    },
    {
      "cell_type": "code",
      "source": [
        "#Operator Precedence\n",
        "'''\n",
        "->Paranthesis ()\n",
        "\n",
        "->Exponentiation **\n",
        "\n",
        "->Unary plus and minus, bitwise NOT (+x, -x, ~x)\n",
        "\n",
        "->Multiplication , Division , Floor Division and  Modulus (*,/,//,%)\n",
        "\n",
        "->Addition , Subtraction (+,-)\n",
        "\n",
        "->Comparison Operators (==, !=, <, >, <=, >=)\n",
        "\n",
        "->Logical NOT, AND, OR (not, and, or)\n",
        "'''\n",
        "\n",
        "print(12 + 5 * (4 - 2))"
      ],
      "metadata": {
        "colab": {
          "base_uri": "https://localhost:8080/"
        },
        "id": "RFCkUO7Bg9SO",
        "outputId": "867b4cc7-c2e7-4089-9e50-d94b8b76f4a9"
      },
      "execution_count": null,
      "outputs": [
        {
          "output_type": "stream",
          "name": "stdout",
          "text": [
            "22\n"
          ]
        }
      ]
    }
  ]
}